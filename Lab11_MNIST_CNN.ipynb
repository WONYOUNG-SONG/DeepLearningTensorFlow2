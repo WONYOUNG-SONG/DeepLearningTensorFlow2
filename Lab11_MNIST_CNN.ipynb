{
  "nbformat": 4,
  "nbformat_minor": 0,
  "metadata": {
    "colab": {
      "provenance": [],
      "authorship_tag": "ABX9TyPp+hESYpXH9aczN8T8rg6Q",
      "include_colab_link": true
    },
    "kernelspec": {
      "name": "python3",
      "display_name": "Python 3"
    },
    "language_info": {
      "name": "python"
    }
  },
  "cells": [
    {
      "cell_type": "markdown",
      "metadata": {
        "id": "view-in-github",
        "colab_type": "text"
      },
      "source": [
        "<a href=\"https://colab.research.google.com/github/WONYOUNG-SONG/DeepLearningTensorFlow2/blob/main/Lab11_MNIST_CNN.ipynb\" target=\"_parent\"><img src=\"https://colab.research.google.com/assets/colab-badge.svg\" alt=\"Open In Colab\"/></a>"
      ]
    },
    {
      "cell_type": "markdown",
      "source": [
        "# **Lab11: MNIST with CNN**"
      ],
      "metadata": {
        "id": "BMKASmTjVL5i"
      }
    },
    {
      "cell_type": "markdown",
      "source": [
        "# **What is CNN?**"
      ],
      "metadata": {
        "id": "73kED2RhXGyX"
      }
    },
    {
      "cell_type": "markdown",
      "source": [
        "**Convolutional Neural Network consists of multiple layers like the input layer, Convolutional layer, Pooling layer, and fully connected layers.**\n"
      ],
      "metadata": {
        "id": "8ps7UIM9XKRC"
      }
    },
    {
      "cell_type": "markdown",
      "source": [
        "<div>\n",
        "  <img src=\"data:image/png;base64,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\" width=450>\n",
        "</div>"
      ],
      "metadata": {
        "id": "OY2bZdVEk1J-"
      }
    },
    {
      "cell_type": "markdown",
      "source": [
        "reference: https://www.geeksforgeeks.org/introduction-convolution-neural-network/"
      ],
      "metadata": {
        "id": "VIyetwCPlACq"
      }
    },
    {
      "cell_type": "code",
      "execution_count": null,
      "metadata": {
        "id": "KVcIArDeVJgb",
        "outputId": "bca4a870-e7c5-4112-e790-bdbe0ab3e4ee",
        "colab": {
          "base_uri": "https://localhost:8080/",
          "height": 1000
        }
      },
      "outputs": [
        {
          "output_type": "stream",
          "name": "stdout",
          "text": [
            "Downloading data from https://storage.googleapis.com/tensorflow/tf-keras-datasets/mnist.npz\n",
            "\u001b[1m11490434/11490434\u001b[0m \u001b[32m━━━━━━━━━━━━━━━━━━━━\u001b[0m\u001b[37m\u001b[0m \u001b[1m0s\u001b[0m 0us/step\n"
          ]
        },
        {
          "output_type": "stream",
          "name": "stderr",
          "text": [
            "/usr/local/lib/python3.10/dist-packages/keras/src/layers/convolutional/base_conv.py:107: UserWarning: Do not pass an `input_shape`/`input_dim` argument to a layer. When using Sequential models, prefer using an `Input(shape)` object as the first layer in the model instead.\n",
            "  super().__init__(activity_regularizer=activity_regularizer, **kwargs)\n"
          ]
        },
        {
          "output_type": "display_data",
          "data": {
            "text/plain": [
              "\u001b[1mModel: \"sequential\"\u001b[0m\n"
            ],
            "text/html": [
              "<pre style=\"white-space:pre;overflow-x:auto;line-height:normal;font-family:Menlo,'DejaVu Sans Mono',consolas,'Courier New',monospace\"><span style=\"font-weight: bold\">Model: \"sequential\"</span>\n",
              "</pre>\n"
            ]
          },
          "metadata": {}
        },
        {
          "output_type": "display_data",
          "data": {
            "text/plain": [
              "┏━━━━━━━━━━━━━━━━━━━━━━━━━━━━━━━━━━━━━━┳━━━━━━━━━━━━━━━━━━━━━━━━━━━━━┳━━━━━━━━━━━━━━━━━┓\n",
              "┃\u001b[1m \u001b[0m\u001b[1mLayer (type)                        \u001b[0m\u001b[1m \u001b[0m┃\u001b[1m \u001b[0m\u001b[1mOutput Shape               \u001b[0m\u001b[1m \u001b[0m┃\u001b[1m \u001b[0m\u001b[1m        Param #\u001b[0m\u001b[1m \u001b[0m┃\n",
              "┡━━━━━━━━━━━━━━━━━━━━━━━━━━━━━━━━━━━━━━╇━━━━━━━━━━━━━━━━━━━━━━━━━━━━━╇━━━━━━━━━━━━━━━━━┩\n",
              "│ conv2d (\u001b[38;5;33mConv2D\u001b[0m)                      │ (\u001b[38;5;45mNone\u001b[0m, \u001b[38;5;34m26\u001b[0m, \u001b[38;5;34m26\u001b[0m, \u001b[38;5;34m16\u001b[0m)          │             \u001b[38;5;34m160\u001b[0m │\n",
              "├──────────────────────────────────────┼─────────────────────────────┼─────────────────┤\n",
              "│ max_pooling2d (\u001b[38;5;33mMaxPooling2D\u001b[0m)         │ (\u001b[38;5;45mNone\u001b[0m, \u001b[38;5;34m13\u001b[0m, \u001b[38;5;34m13\u001b[0m, \u001b[38;5;34m16\u001b[0m)          │               \u001b[38;5;34m0\u001b[0m │\n",
              "├──────────────────────────────────────┼─────────────────────────────┼─────────────────┤\n",
              "│ conv2d_1 (\u001b[38;5;33mConv2D\u001b[0m)                    │ (\u001b[38;5;45mNone\u001b[0m, \u001b[38;5;34m11\u001b[0m, \u001b[38;5;34m11\u001b[0m, \u001b[38;5;34m32\u001b[0m)          │           \u001b[38;5;34m4,640\u001b[0m │\n",
              "├──────────────────────────────────────┼─────────────────────────────┼─────────────────┤\n",
              "│ max_pooling2d_1 (\u001b[38;5;33mMaxPooling2D\u001b[0m)       │ (\u001b[38;5;45mNone\u001b[0m, \u001b[38;5;34m5\u001b[0m, \u001b[38;5;34m5\u001b[0m, \u001b[38;5;34m32\u001b[0m)            │               \u001b[38;5;34m0\u001b[0m │\n",
              "├──────────────────────────────────────┼─────────────────────────────┼─────────────────┤\n",
              "│ flatten (\u001b[38;5;33mFlatten\u001b[0m)                    │ (\u001b[38;5;45mNone\u001b[0m, \u001b[38;5;34m800\u001b[0m)                 │               \u001b[38;5;34m0\u001b[0m │\n",
              "├──────────────────────────────────────┼─────────────────────────────┼─────────────────┤\n",
              "│ dense (\u001b[38;5;33mDense\u001b[0m)                        │ (\u001b[38;5;45mNone\u001b[0m, \u001b[38;5;34m10\u001b[0m)                  │           \u001b[38;5;34m8,010\u001b[0m │\n",
              "└──────────────────────────────────────┴─────────────────────────────┴─────────────────┘\n"
            ],
            "text/html": [
              "<pre style=\"white-space:pre;overflow-x:auto;line-height:normal;font-family:Menlo,'DejaVu Sans Mono',consolas,'Courier New',monospace\">┏━━━━━━━━━━━━━━━━━━━━━━━━━━━━━━━━━━━━━━┳━━━━━━━━━━━━━━━━━━━━━━━━━━━━━┳━━━━━━━━━━━━━━━━━┓\n",
              "┃<span style=\"font-weight: bold\"> Layer (type)                         </span>┃<span style=\"font-weight: bold\"> Output Shape                </span>┃<span style=\"font-weight: bold\">         Param # </span>┃\n",
              "┡━━━━━━━━━━━━━━━━━━━━━━━━━━━━━━━━━━━━━━╇━━━━━━━━━━━━━━━━━━━━━━━━━━━━━╇━━━━━━━━━━━━━━━━━┩\n",
              "│ conv2d (<span style=\"color: #0087ff; text-decoration-color: #0087ff\">Conv2D</span>)                      │ (<span style=\"color: #00d7ff; text-decoration-color: #00d7ff\">None</span>, <span style=\"color: #00af00; text-decoration-color: #00af00\">26</span>, <span style=\"color: #00af00; text-decoration-color: #00af00\">26</span>, <span style=\"color: #00af00; text-decoration-color: #00af00\">16</span>)          │             <span style=\"color: #00af00; text-decoration-color: #00af00\">160</span> │\n",
              "├──────────────────────────────────────┼─────────────────────────────┼─────────────────┤\n",
              "│ max_pooling2d (<span style=\"color: #0087ff; text-decoration-color: #0087ff\">MaxPooling2D</span>)         │ (<span style=\"color: #00d7ff; text-decoration-color: #00d7ff\">None</span>, <span style=\"color: #00af00; text-decoration-color: #00af00\">13</span>, <span style=\"color: #00af00; text-decoration-color: #00af00\">13</span>, <span style=\"color: #00af00; text-decoration-color: #00af00\">16</span>)          │               <span style=\"color: #00af00; text-decoration-color: #00af00\">0</span> │\n",
              "├──────────────────────────────────────┼─────────────────────────────┼─────────────────┤\n",
              "│ conv2d_1 (<span style=\"color: #0087ff; text-decoration-color: #0087ff\">Conv2D</span>)                    │ (<span style=\"color: #00d7ff; text-decoration-color: #00d7ff\">None</span>, <span style=\"color: #00af00; text-decoration-color: #00af00\">11</span>, <span style=\"color: #00af00; text-decoration-color: #00af00\">11</span>, <span style=\"color: #00af00; text-decoration-color: #00af00\">32</span>)          │           <span style=\"color: #00af00; text-decoration-color: #00af00\">4,640</span> │\n",
              "├──────────────────────────────────────┼─────────────────────────────┼─────────────────┤\n",
              "│ max_pooling2d_1 (<span style=\"color: #0087ff; text-decoration-color: #0087ff\">MaxPooling2D</span>)       │ (<span style=\"color: #00d7ff; text-decoration-color: #00d7ff\">None</span>, <span style=\"color: #00af00; text-decoration-color: #00af00\">5</span>, <span style=\"color: #00af00; text-decoration-color: #00af00\">5</span>, <span style=\"color: #00af00; text-decoration-color: #00af00\">32</span>)            │               <span style=\"color: #00af00; text-decoration-color: #00af00\">0</span> │\n",
              "├──────────────────────────────────────┼─────────────────────────────┼─────────────────┤\n",
              "│ flatten (<span style=\"color: #0087ff; text-decoration-color: #0087ff\">Flatten</span>)                    │ (<span style=\"color: #00d7ff; text-decoration-color: #00d7ff\">None</span>, <span style=\"color: #00af00; text-decoration-color: #00af00\">800</span>)                 │               <span style=\"color: #00af00; text-decoration-color: #00af00\">0</span> │\n",
              "├──────────────────────────────────────┼─────────────────────────────┼─────────────────┤\n",
              "│ dense (<span style=\"color: #0087ff; text-decoration-color: #0087ff\">Dense</span>)                        │ (<span style=\"color: #00d7ff; text-decoration-color: #00d7ff\">None</span>, <span style=\"color: #00af00; text-decoration-color: #00af00\">10</span>)                  │           <span style=\"color: #00af00; text-decoration-color: #00af00\">8,010</span> │\n",
              "└──────────────────────────────────────┴─────────────────────────────┴─────────────────┘\n",
              "</pre>\n"
            ]
          },
          "metadata": {}
        },
        {
          "output_type": "display_data",
          "data": {
            "text/plain": [
              "\u001b[1m Total params: \u001b[0m\u001b[38;5;34m12,810\u001b[0m (50.04 KB)\n"
            ],
            "text/html": [
              "<pre style=\"white-space:pre;overflow-x:auto;line-height:normal;font-family:Menlo,'DejaVu Sans Mono',consolas,'Courier New',monospace\"><span style=\"font-weight: bold\"> Total params: </span><span style=\"color: #00af00; text-decoration-color: #00af00\">12,810</span> (50.04 KB)\n",
              "</pre>\n"
            ]
          },
          "metadata": {}
        },
        {
          "output_type": "display_data",
          "data": {
            "text/plain": [
              "\u001b[1m Trainable params: \u001b[0m\u001b[38;5;34m12,810\u001b[0m (50.04 KB)\n"
            ],
            "text/html": [
              "<pre style=\"white-space:pre;overflow-x:auto;line-height:normal;font-family:Menlo,'DejaVu Sans Mono',consolas,'Courier New',monospace\"><span style=\"font-weight: bold\"> Trainable params: </span><span style=\"color: #00af00; text-decoration-color: #00af00\">12,810</span> (50.04 KB)\n",
              "</pre>\n"
            ]
          },
          "metadata": {}
        },
        {
          "output_type": "display_data",
          "data": {
            "text/plain": [
              "\u001b[1m Non-trainable params: \u001b[0m\u001b[38;5;34m0\u001b[0m (0.00 B)\n"
            ],
            "text/html": [
              "<pre style=\"white-space:pre;overflow-x:auto;line-height:normal;font-family:Menlo,'DejaVu Sans Mono',consolas,'Courier New',monospace\"><span style=\"font-weight: bold\"> Non-trainable params: </span><span style=\"color: #00af00; text-decoration-color: #00af00\">0</span> (0.00 B)\n",
              "</pre>\n"
            ]
          },
          "metadata": {}
        },
        {
          "output_type": "stream",
          "name": "stdout",
          "text": [
            "Epoch 1/12\n",
            "\u001b[1m469/469\u001b[0m \u001b[32m━━━━━━━━━━━━━━━━━━━━\u001b[0m\u001b[37m\u001b[0m \u001b[1m35s\u001b[0m 68ms/step - accuracy: 0.7842 - loss: 0.7933\n",
            "Epoch 2/12\n",
            "\u001b[1m469/469\u001b[0m \u001b[32m━━━━━━━━━━━━━━━━━━━━\u001b[0m\u001b[37m\u001b[0m \u001b[1m36s\u001b[0m 57ms/step - accuracy: 0.9714 - loss: 0.0951\n",
            "Epoch 3/12\n",
            "\u001b[1m469/469\u001b[0m \u001b[32m━━━━━━━━━━━━━━━━━━━━\u001b[0m\u001b[37m\u001b[0m \u001b[1m23s\u001b[0m 49ms/step - accuracy: 0.9795 - loss: 0.0693\n",
            "Epoch 4/12\n",
            "\u001b[1m469/469\u001b[0m \u001b[32m━━━━━━━━━━━━━━━━━━━━\u001b[0m\u001b[37m\u001b[0m \u001b[1m42s\u001b[0m 52ms/step - accuracy: 0.9818 - loss: 0.0585\n",
            "Epoch 5/12\n",
            "\u001b[1m469/469\u001b[0m \u001b[32m━━━━━━━━━━━━━━━━━━━━\u001b[0m\u001b[37m\u001b[0m \u001b[1m41s\u001b[0m 51ms/step - accuracy: 0.9846 - loss: 0.0493\n",
            "Epoch 6/12\n",
            "\u001b[1m469/469\u001b[0m \u001b[32m━━━━━━━━━━━━━━━━━━━━\u001b[0m\u001b[37m\u001b[0m \u001b[1m41s\u001b[0m 52ms/step - accuracy: 0.9865 - loss: 0.0432\n",
            "Epoch 7/12\n",
            "\u001b[1m469/469\u001b[0m \u001b[32m━━━━━━━━━━━━━━━━━━━━\u001b[0m\u001b[37m\u001b[0m \u001b[1m41s\u001b[0m 51ms/step - accuracy: 0.9891 - loss: 0.0370\n",
            "Epoch 8/12\n",
            "\u001b[1m469/469\u001b[0m \u001b[32m━━━━━━━━━━━━━━━━━━━━\u001b[0m\u001b[37m\u001b[0m \u001b[1m40s\u001b[0m 50ms/step - accuracy: 0.9879 - loss: 0.0371\n",
            "Epoch 9/12\n",
            "\u001b[1m469/469\u001b[0m \u001b[32m━━━━━━━━━━━━━━━━━━━━\u001b[0m\u001b[37m\u001b[0m \u001b[1m40s\u001b[0m 49ms/step - accuracy: 0.9904 - loss: 0.0307\n",
            "Epoch 10/12\n",
            "\u001b[1m469/469\u001b[0m \u001b[32m━━━━━━━━━━━━━━━━━━━━\u001b[0m\u001b[37m\u001b[0m \u001b[1m42s\u001b[0m 52ms/step - accuracy: 0.9907 - loss: 0.0308\n",
            "Epoch 11/12\n",
            "\u001b[1m469/469\u001b[0m \u001b[32m━━━━━━━━━━━━━━━━━━━━\u001b[0m\u001b[37m\u001b[0m \u001b[1m42s\u001b[0m 54ms/step - accuracy: 0.9921 - loss: 0.0280\n",
            "Epoch 12/12\n",
            "\u001b[1m469/469\u001b[0m \u001b[32m━━━━━━━━━━━━━━━━━━━━\u001b[0m\u001b[37m\u001b[0m \u001b[1m40s\u001b[0m 52ms/step - accuracy: 0.9922 - loss: 0.0255\n",
            "\u001b[1m313/313\u001b[0m \u001b[32m━━━━━━━━━━━━━━━━━━━━\u001b[0m\u001b[37m\u001b[0m \u001b[1m4s\u001b[0m 12ms/step\n",
            "index:  2582 actual y:  9 predicted y:  9\n",
            "index:  1356 actual y:  2 predicted y:  2\n",
            "index:  7635 actual y:  2 predicted y:  2\n",
            "index:  5276 actual y:  6 predicted y:  6\n",
            "index:  6642 actual y:  9 predicted y:  9\n",
            "index:  9748 actual y:  8 predicted y:  8\n",
            "index:  3762 actual y:  6 predicted y:  6\n",
            "index:  6639 actual y:  6 predicted y:  6\n",
            "index:  1172 actual y:  3 predicted y:  3\n",
            "index:  1089 actual y:  5 predicted y:  5\n",
            "\u001b[1m313/313\u001b[0m \u001b[32m━━━━━━━━━━━━━━━━━━━━\u001b[0m\u001b[37m\u001b[0m \u001b[1m2s\u001b[0m 6ms/step - accuracy: 0.9857 - loss: 0.0423\n",
            "loss:  0.03587432578206062\n",
            "accuracy 0.9887999892234802\n"
          ]
        }
      ],
      "source": [
        "# Lab 11 MNIST and Convolutional Neural Network\n",
        "import numpy as np\n",
        "import tensorflow as tf\n",
        "import random\n",
        "\n",
        "mnist = tf.keras.datasets.mnist\n",
        "\n",
        "(x_train, y_train), (x_test, y_test) = mnist.load_data()\n",
        "x_test = x_test / 255\n",
        "x_train = x_train / 255\n",
        "x_train = x_train.reshape(x_train.shape[0], 28, 28, 1)\n",
        "x_test = x_test.reshape(x_test.shape[0], 28, 28, 1)\n",
        "\n",
        "# one hot encode y data\n",
        "y_train = tf.keras.utils.to_categorical(y_train, 10)\n",
        "y_test = tf.keras.utils.to_categorical(y_test, 10)\n",
        "\n",
        "# hyper parameters\n",
        "learning_rate = 0.001\n",
        "training_epochs = 12\n",
        "batch_size = 128\n",
        "\n",
        "tf.model = tf.keras.Sequential()\n",
        "# L1\n",
        "tf.model.add(tf.keras.layers.Conv2D(filters=16, kernel_size=(3, 3), input_shape=(28, 28, 1), activation='relu'))\n",
        "tf.model.add(tf.keras.layers.MaxPooling2D(pool_size=(2, 2)))\n",
        "\n",
        "# L2\n",
        "tf.model.add(tf.keras.layers.Conv2D(filters=32, kernel_size=(3, 3), activation='relu'))\n",
        "tf.model.add(tf.keras.layers.MaxPooling2D(pool_size=(2, 2)))\n",
        "\n",
        "# L3 fully connected\n",
        "tf.model.add(tf.keras.layers.Flatten())\n",
        "tf.model.add(tf.keras.layers.Dense(units=10, kernel_initializer='glorot_normal', activation='softmax'))\n",
        "\n",
        "tf.model.compile(loss='categorical_crossentropy', optimizer=tf.keras.optimizers.Adam(learning_rate=learning_rate), metrics=['accuracy'])\n",
        "tf.model.summary()\n",
        "\n",
        "tf.model.fit(x_train, y_train, batch_size=batch_size, epochs=training_epochs)\n",
        "\n",
        "# predict 10 random hand-writing data\n",
        "y_predicted = tf.model.predict(x_test)\n",
        "for x in range(0, 10):\n",
        "    random_index = random.randint(0, x_test.shape[0]-1)\n",
        "    print(\"index: \", random_index,\n",
        "          \"actual y: \", np.argmax(y_test[random_index]),\n",
        "          \"predicted y: \", np.argmax(y_predicted[random_index]))\n",
        "\n",
        "evaluation = tf.model.evaluate(x_test, y_test)\n",
        "print('loss: ', evaluation[0])\n",
        "print('accuracy', evaluation[1])"
      ]
    },
    {
      "cell_type": "markdown",
      "source": [
        "accuracy 98% loss 3%"
      ],
      "metadata": {
        "id": "2h4dWEy2Xcwz"
      }
    },
    {
      "cell_type": "code",
      "source": [],
      "metadata": {
        "id": "4dR5fzAVXha8"
      },
      "execution_count": null,
      "outputs": []
    }
  ]
}