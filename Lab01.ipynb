{
  "nbformat": 4,
  "nbformat_minor": 0,
  "metadata": {
    "colab": {
      "provenance": []
    },
    "kernelspec": {
      "name": "python3",
      "display_name": "Python 3"
    },
    "language_info": {
      "name": "python"
    }
  },
  "cells": [
    {
      "cell_type": "markdown",
      "source": [
        "# **Lab01: Basic TensorFlow**\n",
        "https://github.com/WONYOUNG-SONG/DeepLearningZeroToAll/blob/master/lab-01-basics.ipynb"
      ],
      "metadata": {
        "id": "--_PryEtc8IS"
      }
    },
    {
      "cell_type": "markdown",
      "source": [
        "**First, install TensorFlow**\n",
        "\n",
        "```\n",
        "# upgrade pip first\n",
        "pip3 install --upgrade pip\n",
        "\n",
        "# and install tensorflow\n",
        "pip3 install tensorflow\n",
        "\n",
        "```\n",
        "\n"
      ],
      "metadata": {
        "id": "H8ram4BIeGZh"
      }
    },
    {
      "cell_type": "markdown",
      "source": [
        "**Import and check version**"
      ],
      "metadata": {
        "id": "YgYYLKsafJPi"
      }
    },
    {
      "cell_type": "code",
      "source": [
        "import tensorflow as tf\n",
        "tf.__version__"
      ],
      "metadata": {
        "colab": {
          "base_uri": "https://localhost:8080/",
          "height": 35
        },
        "id": "LpV_z8USc-jr",
        "outputId": "6e299ea1-cf36-4476-f836-503365bd42cc"
      },
      "execution_count": null,
      "outputs": [
        {
          "output_type": "execute_result",
          "data": {
            "text/plain": [
              "'2.17.0'"
            ],
            "application/vnd.google.colaboratory.intrinsic+json": {
              "type": "string"
            }
          },
          "metadata": {},
          "execution_count": 10
        }
      ]
    },
    {
      "cell_type": "markdown",
      "source": [
        "**Hello TensorFlow!**"
      ],
      "metadata": {
        "id": "QkdnMaQoe0Wj"
      }
    },
    {
      "cell_type": "code",
      "source": [
        "#create a constant tensor\n",
        "hello = tf.constant(\"Hello, TensorFlow!\")\n",
        "\n",
        "#create a session\n",
        "sess = tf.compat.v1.Session()\n",
        "\n",
        "#However, in TensorFlow2, we don't have to explicitly create a session and run the code\n",
        "tf.print(hello)"
      ],
      "metadata": {
        "colab": {
          "base_uri": "https://localhost:8080/"
        },
        "id": "WakBEVM7fzaz",
        "outputId": "00629698-5400-4432-a631-f1be4764f87d"
      },
      "execution_count": null,
      "outputs": [
        {
          "output_type": "stream",
          "name": "stdout",
          "text": [
            "Hello, TensorFlow!\n"
          ]
        }
      ]
    },
    {
      "cell_type": "markdown",
      "source": [
        "**Computational Graph**"
      ],
      "metadata": {
        "id": "AbSeCWOCj95S"
      }
    },
    {
      "cell_type": "markdown",
      "source": [
        "In TensorFlow2, we can just use tf.print instead of using a session and the run method."
      ],
      "metadata": {
        "id": "49UHQmBKlVj2"
      }
    },
    {
      "cell_type": "code",
      "source": [
        "node1 = tf.constant(3.0, tf.float32)\n",
        "node2 = tf.constant(4.0) # also tf.float32 implicitly\n",
        "node3 = tf.add(node1, node2)"
      ],
      "metadata": {
        "id": "Zt9YEP2EhUsD"
      },
      "execution_count": null,
      "outputs": []
    },
    {
      "cell_type": "code",
      "source": [
        "tf.print(node1, node2)\n",
        "tf.print(node3)"
      ],
      "metadata": {
        "colab": {
          "base_uri": "https://localhost:8080/"
        },
        "id": "oLA0Vhc2kTjv",
        "outputId": "5c4246e9-12b4-42ef-9df2-c467e8ba8b40"
      },
      "execution_count": null,
      "outputs": [
        {
          "output_type": "stream",
          "name": "stdout",
          "text": [
            "3 4\n",
            "7\n"
          ]
        }
      ]
    },
    {
      "cell_type": "markdown",
      "source": [
        "Let's use placehorder then."
      ],
      "metadata": {
        "id": "t4cgcVL6luG-"
      }
    },
    {
      "cell_type": "code",
      "source": [
        "tf.placeholder(tf.float32)"
      ],
      "metadata": {
        "colab": {
          "base_uri": "https://localhost:8080/",
          "height": 144
        },
        "id": "LNZzhhsakWkw",
        "outputId": "116a2057-05eb-4a80-8737-56397add0035"
      },
      "execution_count": null,
      "outputs": [
        {
          "output_type": "error",
          "ename": "AttributeError",
          "evalue": "module 'tensorflow' has no attribute 'placeholder'",
          "traceback": [
            "\u001b[0;31m---------------------------------------------------------------------------\u001b[0m",
            "\u001b[0;31mAttributeError\u001b[0m                            Traceback (most recent call last)",
            "\u001b[0;32m<ipython-input-26-5777cdf058d5>\u001b[0m in \u001b[0;36m<cell line: 1>\u001b[0;34m()\u001b[0m\n\u001b[0;32m----> 1\u001b[0;31m \u001b[0mtf\u001b[0m\u001b[0;34m.\u001b[0m\u001b[0mplaceholder\u001b[0m\u001b[0;34m(\u001b[0m\u001b[0mtf\u001b[0m\u001b[0;34m.\u001b[0m\u001b[0mfloat32\u001b[0m\u001b[0;34m)\u001b[0m\u001b[0;34m\u001b[0m\u001b[0;34m\u001b[0m\u001b[0m\n\u001b[0m",
            "\u001b[0;31mAttributeError\u001b[0m: module 'tensorflow' has no attribute 'placeholder'"
          ]
        }
      ]
    },
    {
      "cell_type": "markdown",
      "source": [
        "As you can see above, placeholder is not working on TensorFlow2.\n",
        "\n",
        "Because placeholders are no longer needed.\n",
        "Instead, we can directly pass values (tensors, scalars, or lists) to our functions.\n",
        "\n"
      ],
      "metadata": {
        "id": "93opV-bLmemg"
      }
    },
    {
      "cell_type": "code",
      "source": [
        "def adder_node(a, b):\n",
        "    return tf.add(a,b)\n",
        "\n",
        "tf.print(adder_node(1, 2))\n",
        "\n",
        "#We can add vectors too!\n",
        "list1 = [1, 2, 3]\n",
        "list2 = [3, 2, 1]\n",
        "tf.print(adder_node(list1, list2))"
      ],
      "metadata": {
        "colab": {
          "base_uri": "https://localhost:8080/"
        },
        "id": "DFyptzY_niks",
        "outputId": "4d150928-a30f-4b99-ed19-92b58541076f"
      },
      "execution_count": null,
      "outputs": [
        {
          "output_type": "stream",
          "name": "stdout",
          "text": [
            "3\n",
            "[4 4 4]\n"
          ]
        }
      ]
    }
  ]
}