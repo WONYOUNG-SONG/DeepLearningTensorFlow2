{
  "nbformat": 4,
  "nbformat_minor": 0,
  "metadata": {
    "colab": {
      "provenance": [],
      "authorship_tag": "ABX9TyPrFkTQM6OiA95jZ/HSxV2H",
      "include_colab_link": true
    },
    "kernelspec": {
      "name": "python3",
      "display_name": "Python 3"
    },
    "language_info": {
      "name": "python"
    }
  },
  "cells": [
    {
      "cell_type": "markdown",
      "metadata": {
        "id": "view-in-github",
        "colab_type": "text"
      },
      "source": [
        "<a href=\"https://colab.research.google.com/github/WONYOUNG-SONG/DeepLearningTensorFlow2/blob/main/Lab04_01_MultiVariableLinearRegression.ipynb\" target=\"_parent\"><img src=\"https://colab.research.google.com/assets/colab-badge.svg\" alt=\"Open In Colab\"/></a>"
      ]
    },
    {
      "cell_type": "markdown",
      "source": [
        "# **Lab04: Multi Variable Linear Regression**\n",
        "\n",
        "https://github.com/WONYOUNG-SONG/DeepLearningZeroToAll/blob/master/tf2/tf2-04-1-multi_variable_linear_regression.py"
      ],
      "metadata": {
        "id": "vvy7jFORdmhJ"
      }
    },
    {
      "cell_type": "markdown",
      "source": [
        "**Data Example**\n",
        "\n",
        "Predicting exam score:\n",
        "regression using three inputs (x1, x2, x3)\n",
        "\n",
        "|x1 (midterm1)|x2 (midterm1)|x3 (midterm1)|y (final)|\n",
        "|---|---|---|---|\n",
        "|73|80|75|152|\n",
        "|93|88|93|185|\n",
        "|89|91|90|180|\n",
        "|96|98|100|196|\n",
        "|73|66|70|142|\n",
        "\n",
        "**Goal: predict final score using three exam scores**"
      ],
      "metadata": {
        "id": "qwZqKGfEeFpe"
      }
    },
    {
      "cell_type": "markdown",
      "source": [
        "**We can just simply use this equation:**\n",
        "\n",
        "$$\n",
        "H(x_1, x_2, x_3)=w_1x_1+w_2x_2+w_3x_3+b\n",
        "$$"
      ],
      "metadata": {
        "id": "rKLlKz7ehL6k"
      }
    },
    {
      "cell_type": "markdown",
      "source": [
        "\n",
        "**However, what happens if we have a very large number of inputs?**\n",
        "\n",
        "It will be like this\n",
        "$$\n",
        "w_1x_1+w_2x_2+w_3x_3+...+w_nx_n\n",
        "$$"
      ],
      "metadata": {
        "id": "uV3DfhK6hrfU"
      }
    },
    {
      "cell_type": "markdown",
      "source": [
        "But, this is too complicated and dirty.\n",
        "\n",
        "Then, what can we use?\n",
        "\n",
        "We can use **Matrix multiplication (dot product)**\n"
      ],
      "metadata": {
        "id": "LAbDbwrsiE0a"
      }
    },
    {
      "cell_type": "markdown",
      "source": [
        "**Hypothesis using matrix:**\n",
        "\n",
        "<div>\n",
        "  <img src=\"data:image/png;base64,iVBORw0KGgoAAAANSUhEUgAAAtkAAADcCAIAAAAqfSpTAAAAAXNSR0IArs4c6QAAAERlWElmTU0AKgAAAAgAAYdpAAQAAAABAAAAGgAAAAAAA6ABAAMAAAABAAEAAKACAAQAAAABAAAC2aADAAQAAAABAAAA3AAAAACbGDVqAABAAElEQVR4Ae2dB5wUxfLHOTiOJEHJIgqKKMmsoD7BnLM+FSWpYEAFTBhAQcwkyRkkiVmUoBgxgIIoIqKSgyTJUZQj3P8L/X/z5u0e3OzdzG7P7m/lc/bO9vRU/aq7urq6uiYtKysrnz5CQAgIASEgBISAEEgQAvkT9Fw9VggIASEgBISAEBAC+xCQLaJ+IASEgBAQAkJACCQSAdkiiURfzxYCQkAICAEhIATS3RCMGzduxYoV7isHL+fPn/+2224rXrz4wavp19RBYNKkSYsXL/bOb1pa2k033VS6dGnvtxy85vDhw3fs2HHwOu5fixYt2qxZM/cVlVMcgddff33Tpk3eQShRokSjRo2817ew5saNG994442YCKtUqdLVV1/N+I3pLlVOVgRWr149duzYmLgrX778ddddhxVh7kpzx642adJk1Ouv5S9c0GOLhQsVXrhoYZEiRTzWV7XkRgC19OijbYcOG+qVzax86buy1qxZU6pUKa+35FSP/r1u66a0dK8Ov0oVKsz+9bd8+eyN4C6Qlr94QQ2xnATv3+81atSYO3eu9/aqVau2YMEC7/UtrLl06dKqVavmSyuWL59X2+KuFs27duvmvX78uS6UkZaREf/HpugT58yZU6dOnZiYx4IfMWKEY4v8j1+EhtKLFylSrXxGRiEvjRZMT5+9eXmhfwp7qaw6qYDAjrKFDj3xaC+cYgTv3PbXrnlrvFT2XoeFWkbFUkXKlSqQHtm3s22kUKlSszYty/YnSy6WL1yiRslKlhCTCmSwuPK4vtq9e/euXbuSxTeQVuiQszIyinhkZ+P2Y6fP3GuzLVKzetrhFbyuSVKhYwfKIyaFx1EDGZmZmXv27ImgJxt9XbxEiWHDXo2ol+1XphOPGj/b23UxyRCgPzRp2rRxkyZe+GIp+Uir1l5qxloHF8cll112++23e7wRsj3qX48Nqlp4EaAzTJ06de9eZtmcPz169Gjfvn3O9cJRIy1fWv6ePbuVLVvRC727d+8BJJu3aOx1dXrBN2x1qlevvm7dOo9U33LLLRMmTIionI0tgpOuUCFPfpGItvQ1xRHY55Pw7BUtUKBAoIsq9eEU7425Y58+7H1557iXc/csC+/KyMhfqJAnP7emCAvFl0CS0vd/PBIQ7RThRrmwPKKnakJACAgBISAEhEAgCMgWCQRWNSoEhIAQEAJCQAh4REC2iEegVE0ICAEhIASEgBAIBAHZIoHAqkaFgBAQAkJACAgBjwjIFvEIlKoJASEgBISAEBACgSAgWyQQWNWoEBACQkAICAEh4BEB2SIegVI1ISAEhIAQEAJCIBAEZIsEAqsaFQJCQAgIASEgBDwiIFvEI1CqJgSEgBAQAkJACASCgGyRQGBVo0JACAgBISAEhIBHBGSLeARK1YSAEBACQkAICIFAEJAtEgisalQICAEhIASEgBDwiIBsEY9AqZoQEAJCQAgIASEQCAKyRQKBVY0KASEgBISAEBACHhGQLeIRKFUTAkJACAgBISAEAkFAtkggsKpRISAEhIAQEAJCwCMCskU8AqVqQkAICAEhIASEQCAIyBYJBFY1KgSEgBAQAkJACHhEIN1jPVUTAimLwOTJkzdu3Fi/fv2yZcsmAQidO3fOysq65JJLTjrppCRg55NPPvnpp5+qVq160003JQE7YkEIpCYCskVSU+7iOgYEJk6cuHDB/OOPPz45bJEXXnhhy5YtJUuWTA5bZNy4cX379r3oootki8TQp1VVCFiGgPZoLBOIyLEPgTT7SBJFEQikpUlKEZDoqxAIEwKyRcIkLdEqBISAEBACQiD5EIjrHg271ObDIsZ8Qg3of7jJ+g834V6ZwQ7i2Lt3b3KwE1zXAiKDVf78+cEquAfFp2V4gSOeJXbiA3hqPsWMGjqbo15CPXZgh48RJYyEfewglz179iSWnXjYIvCZmZk566ef5i9YMH/+/GVLlx5++OF169W79NJLixQpEsaRuXv3bhj59ddfly5dunDBghIlSpx2+umwwx586NgxU9GSJUtm//zz0mVLFy9ajFBq1qp19dVXH3bYYaHWF77LguH6448/fv755/ThjIyM+g0aXH755UWLFvX9QfFpEHamTZs2YsSI2bNn0w3g5d577yUmJqRChwWG5LBhw6ZMmVKgQIG6des++eST4WUnPn0gDk+hm9HBJkycOG/e3A1r15YpV75y5SPPOuvMs846Cw0TBwL8fQTs/PbbbwSAf/nll3///XehQoWOOeaYK6+8EoVJSJm/z4pDa1hUsDNo0KAJEyZs3boVo6pKlSoXXHDBzTffHOd4ssBtEST3xhtvvD/2vV27dsF2/rT8WfmyNm/e9Pvvv73z9tujX3stdIpv/PjxY14bTS+EHUP86tWr5s+f996773Tp2u3II4+MQwfy8RFz58594fnntm/fjqTS8sFQ2t6svWiNcR+83/GZTieeeKKPzwp1Uzt37ryrRYsNG9Y766Fly5ZOGD9+5KhRzpUQMYjSuf766wnLRe6G7O+//7579+5M50cccUSIGHFIveWWW8aOHYueMVcwswYOHMgRmzDOEA5TSVBoeV/LP//8c5/yz5+/SLFDtm7b+suc2fzDiD///PPDxSCLaiZpwqUNO+np6Zs2bVq1atU333zz7bffvv/+++FiBy4eeOCBIUOGwBeUs75CG6xbt27GjBnoAdiMJzuB2yJI68/VqzGEr7nmmipVqx5yyCEoi3nz5vXq2XPbtq2tW7Xq2atXuMyR9evXlyhZsmmzZsceWx2PCNJauXJlj1e6c+yzW9euffv1w2sSTxHm8VnGL3Jn8xZY92XKlEEWq1ev7t2r159/rn7u2U4jR40Oqe8qj7BE3A5K3bt14+9jjz9x1FFHoVXxh3Xt2nXjxg1tWrXq3qNHRH37vz7xxBNoItTQaaedVrhw4UWLFjGXb968Ge8Iq1j76Y+gEO3J4SAkwpKuWLFiy5cvb968OUyx+ObvoYceGlFfX+OAwI4d2+5teT+KsXTpMg/cf3+VKpULFiy0e3fmtm078CiHbp3zzz//YDx99913qP3hw4fjNqCnsSjdtm0bK7oaNWqgH8I1l914442Y75gg/fv3Z+AwTOBxx44dsFO+fPk4sxO4LYK+u7dlS0wQCk7vr1ChAuUunV9euXIFM3fBggWdn+wvNGzYsEmTJsxGTrdjCn+07WNPPP7YkiWL2eyoXLmy/Vw4FB533HGjRr8GO07Pg50XXnzxrhbNGWaoDMaYUzllC4BTqFBGz1696ckGBMbqrt27u3XtsmjxIpRR8eLFwwUOvZfFXK1atUw3xhJlGXTuuefOmTPnrbfeCt35WJanbM1geSAFODr66KPxX9asWZPrbEK1adMmXNJJAmpZYXft+gr4Fz+kOEu1kiVLOQqTnRkMesZUuNh85plnMETYV/r6668ZOG7izVeHQfdP1pbHjBnDkMcQ+fDDD7Gx3MQfe+yxkO2+EgcuAj9HAz/44tyGiOHq9NNPz9q7L16GPao48OnjI1hEshvtlhPlk08+uULFijyFRZiPz4pDU/CCIcKD3ByVLl26aJGi/LRs2bI40GD/IwDnjjubswxySOUKfZiVBCq1W7dubvScOjYXHn744dq1aztkU/jX/g/ssKlqM+XZ0nbKKadgiMAFHyrwFxu6QYMGlIkgYX8t27t0MTgE2LmY/v10NDxTuNsQcZ5oJOV8tbzAmnnw4MEQSRASNm4Etfu6XajC2NmUadGiBdK5//77IwwRWEsIO4HbIhEyc77iCylZqhSKD4+QczG8BYRq4rBCZ+xniznWiTFQzD5itnVS6iKDs1Sp/y7sDO+4ak897XR+mj7tOzpAuACJ3raAkauuugouiGULFy9Qa7YX3WQzEkeNGgVT7HwTDuX+SeU4ILBo0UJ0CDu8hNAhhTg8MdBHfPDBBxs2bOB0AvHdScAO/iq2Y0CMndlAcfPeeOB7NIYU9AKzGq5svCCrVq5csnQpQQk7dvzlnVCrasIOUS+ws33btpWrVuE8WLFixdIlS60iMiZiYAd9jXQ2bdy4cNEionG3/yX1nQOEePtq16o1+YvPcSBhixjrLYd77P65WrVqELh27Vq7yfREHRMGxiIuaJwihOPh6vN0myr5gQC2x4oVKxHB4YdXysgI0xb8gbhnB5CfqlevHt5zc27WZs6caTYrcO66ryewHA9bBDU9adKk0aNGbdmyGa3tfBLIdl4ejSHCRvvQIUPWrl1DZC4zUHrBguxzOAH8eWk8/vfCDpFKRN0Su2PYKZCeDjtc5xN/ekL0RPApWy4Z3lDjYE6YBcPT+Rr2Antq+F+1QZMQORJtxnMRQRJ4EWCEAwr8DVdoY45yJ7lGjnXiViFwWwR9/cLzz8+Y8T098uRTTm3cuDFxMczfGCiPPPLIksUhi65AMP379Zs06SPYOfGkk3FwsVGNgQlHTz/91Mwff4yb5Px60NQpUzp3fhkxVa169M233MKmOxYJ3D3//PNsPfj1lKRsB5RWr1qdTKz98ccf0aFd4WUQL7Q51JYELqvQScGcv+NwE6kBCfQPHf0RBJst+L/+CqsvP4Id85WYnmyvJ+Ri4LYIZ+2+nz69cJEiffr25egBTDLtocT5JIThPD6UnaaPP54E8e3aP8VhSGNU/YeX8HHE0HrppRfh4pFH2xK5yJo41NLJo3BjvR25L1y4kLuYv5NjwUSkCB0A70isUNhZnyPKOEWYFMuVK2cnhclKFR7VqlWrMi5I6IDDmIRgYef04osvJl3NggUL2O9LgndkMnmhvhjspEUxp88SLqDAY1fnzZ2bLy0f2s0YIjBsZm48eJs3bUo4/7ESwO4MHp1y5crXq1fPLLYMOwiVWJhYW0t4faKx4GJnZmYEOyiRDevXJ5w8ewjgzBeZdiPoIbyGM34khG/UqHHET/Z/5ewunTaCTlKfcYUDitE/RdS07StGoXGBuAnDbQkjp556qnMS2/2ryoEiUKVKFXTjzsydxA4H+qD4NE7eHUKOOGnRq1ev+Dwx0KcQiW8cV2QYssQVGrgtAp/0SJylbu3GcpxcZ+SJChTuIBo3XMCO+4AJSpCElQsW7Jur8EkG8dwg2tzHy/7ZiOgQlo/GqOJBGFvvvffeokULucK7SoJ4dOjaBKnXx4xhC8NNOVtyhEAVTE//9003ua+HoowO+uqrr9ykknd16tSp2KZspDqdwV3B5vLixYvfeecdt5Ih0w/sQHPLli3ZdrSZ+KSkrWLFCmeeeSbd6bnnniPYwi2aMPJLKoe7774byrFFfv755zCy4KYZPy4aAOmQfefdd9+1QTqBD9FatWu/++47S5cuGTF8+Dn166PjWF+OHzcOQ+SYY6otXrzIPakbsJgLv506tWBGBm+UsE0nnn322f369mUGeqV792uvu44ofU7QkPp3/ry5+H5QiBFHlMkwC78YKIdXrAj7VnnywbZM2bKgjabu0rnzTTffTMKu1atWffLJJz/8MIPgnlk/zfxz9Z9Uc3oquZx/+eUXXN84vQmUCV2CL/dojKkMCHweerDNvS3vI18kcmTzceCA/gzmM86oGy1WJE5CJDqwtbsD7MeRCrlTp0785XwvxwSaNm1KZyDZABkYHXBYSxB4ztKWjo3Eee8GODi/2lPgdANJCHH2NGvWjFSKSAcTBPLIZ89BZTqwIZsCWeHxZrEcIgEJjvck2D6wRwpuSnhh3MMPtWp53yKOZbV97LHbbr3VJCplIcfoILcvOZnIsOe+hTIRDBzxuPDCC5n7I35K+Fcyi/zwww+oR7zIJE3BU8LoxsHPrg09ih545513OkTicv7oo4/IFcn18847D96tGjgMBLyGvIOGjGe33norfDF8KlWqxLoadnjrFgPfzQ7T9Gefffb777+j61BrfBxO/SoEbovgIK3f4Nwp33z93nvvvv32W9CN+uasXavWbdipYvHNxOZmhum8T58+S5cs4fVsZ5xxhlXyg05GCOp44sQJU6Z889VXXyJRdDoXW7VqjQhJdLZxw3+dPfw0cOAAXsFDMPmXkye/+uqrQ4YOtUr34aZr+9jjvXr2+Pln3l2475QXNGNgXXPNtcdUq/bTzB//WL4ceTFFwTuyYMeUvZtDihdft3bt4MGDund/xdq51t2p8l6G9xZ33TX81WE9e7ySuf+NJ7hDuFi+QoWnnn7afYSKMh27T+9e6FzC1K3Fp23btqghEpK6c5ISoMfoc8OFDrrvvvtIEUHH6NmzJ4lZ8Zm5K1hSJtoJ7U/ANR+HJHryF1984T7KQQ+/7LLLWDYwDMlQR7Y38kZoB8dBzMcCoyMjo9jgQYMffuRhfFT9B/RnnjNGISqFD89y2yIMHKZ58ontytxJBIOFtghWBcvO6667jrdjPrb/44aLxHruyZth8sorr6ABMOIff/xx8gdyI5i4b0lg2VAyevS+V3ygB3jVHx83PSeccIKbHeqTFQ3LHg86r4949tlnH3roIXf9vJcD36OBRDI8PvTwI2iEIkWKMuwvuPCifv0HYFrWPeOM2nVOwGqmgxpOYBiZsdHYpGlTs32Qdw79bQEK77jzTl4aRyZBpAg7deqcADsXXHghxlPt2nVg02GHKbxr127dund/plMnQndR63379jWdwF+qct0axNSvXx/6mTINO9WqHdujZ6/mLVow6xh2HMcVfLEy6N2nzwsvvDBw0KDjqh/XpUtno1NyTUAobmTeAhwWDYMGDwGfYkWLFiJnQsGCx1av3qNHTwcfwwv9edDAgXR4NK+d3NFp+aBWWP2Q650Jm24AO6TlZpsGb4G7i8I7Fja7OUzqeHqYuVm2WsUXFMIOAsIXgtnEHEafxNWHd4RlHBlT3OxgUfGqGlaxvGQVZw+n2Tt27GgVO8lEDMjzwXzv2KEjw2d/v/v/P7fcfDPODzezrOWYFHmjUMXylgYawwu9C28HXgTj4+ErBgqxF8zTr7/+upudO+64g0hwfAmsTLD7GzVqBIPuCjaU4YidGjyFF110EYKBHcYR3u5rr732zTffdFPIgCIkCw0wffp03hGBdYVZ766Q93LgfhG4ZQ47Z/+HMhQ7U/W/zjmHf+4rsIfNRTUM5LzzFlwLderUGTFyZAQ7GJJ83OxQRi0afhEzrwZc/scfTFEoxOBoy0XLGCKDhwx12DEF2nnxpZf468iLMjOW+UodzmZ/+dWX8OJ7p8wFC8HdAr/P7V9qG8axLB18HCjcT2cl9NqYMU4d9082lKEZvzGU0DMhEtPfBD+ha1BD0WRzxbmIxKmGLcJmjQ28QAPsdOnS5eWXXzZE9u7dm8kM6xDuGHFQa2Tkphbby3wlVSvmF94U968q+4sAcmHOYuYe0L8/oWicOaPr5cu3TwH+ZwW674GIifiS0aNH7fM2WnwA2HQzdmkZBWhyVpvG8HXGiIOeW8m3b98edx3JJO30kpLA7eOPP4YXOIIRRg1MOYyYAtf5mDLLFSpjaeFWjKiWl6+B2yIQ5/BgCI346q4Q/VNeeAv0XodUp+A8LvoKPzHYdv7zDy/4dfdR55YEFiKodb5GF9xE4qnjjUr1GzRA7zs13RWSpuxw5xQc1qKv8JO5mO1Pzo0JLEAYusZNACYIH/eVA5VNcgUcKgeqEP/rsMPHrToxQfg4lPCrU44ozJo1ixmFjX/G5kGqRdylr7lFAEH8T8dzS2Y//vsk5b6Y2wfF4z4IZmHGx8vDiHnHAnZ3Sy93xa2O6fyohQjNkC0BDBbcV0RZ8FIefwfO/3SObJ+ti74gwPlPAnj79mNxEO4PLu6RI0f+/tuvV1511Q033CglHm5xxkI98YZsiLgjW2O526K6gwYNws/Mwo7X5rFToD5skWySkRSiK4h9tNMpEhPe7NF/+umnrEk4ocao8XfgRLpiYqJMlb0j8PVXXx1RubJVOXe9E++uSf8rV7Ysr5kggMvkRXb/qnKyIoAnjMOZzZs397J4shwEFqnEkbAvji2iPRrLhRV28ohdJeKVOFbbPOK5AJYkYWzUMmTY2/XXEIEY+UVyIZGYb+EcLH6tQftfOR3zzZbdQAwaJ0ogikPanZ7pOHzEyOSOF7EM/oSRw6kTji/y13cdFGeWcCxzepmjv+zfcyyTqEMUa5xp0ONSBAGGDGkgcCdwnjQJBk7r1q0ZPgR9EzHGyTWOxPsoR/lFfAQz+6Z4I3Gf3r05+Umgcti7Ixw6LJxRty7aPOJIdvYQ6GrIESCoHhfCuHHjQs7HPvLpwKYPMx6xRdipSQKmxIKFCBBLxxnSihUrPvrooxaSFytJZtTwl5BVYl84UoddEmsjB6kvv8hBwPHhJxx07Z588rZGjYj08aG5RDfhBCtR2LhxY8GCGbyaAe99ounS84NCAEFPmzaNs7IcACb7iNFHQT0s+HaN9jRc4M8jm1HlypWDf6yekHII0Lv69+/PcVnO9MJ8Mg0cUtVx4gZ/j79MWWeL8PIhWOXY4bZt21B/6A6ifkLakQnvb9+uHf4DDBHzRkS2DIlg8leEcQOH0dWjRw/SdGJ/ELs0ZMjg5s1byBCJwJ8jsvgwETEfOjMdGImTKyyiWli+rl+/nuR+AwYMYJFnXgRYsmRJOgDchYUFN52EkJPTqUmTJnBBmhxyPZFSBRmFlB03a2EvM3BIm4uG/OfvXURJk6iJlHS8AiakfLHxR4wIyUjMqKGPoQSsPUqTI8iEGSAUAr1Zgt5zzz3EWpGayN+BY5ctgkZAeGQA3XcENl++/v36oQGHjxgR0nA5yEaVs4vBm4qNsOmLJD8jPU6OsrewAjL5a/v2Dk8/jVDQFO3atSeLs7/d0UKuYyUJcZNKgfP35ctX+OTjSZ98nEaYJDt0XIm1KRvqsy/D2RlczQ4xJMfjIFVIJ29MZzjq168f/bZKlSqc6T3uuONCyosjkeQosARFLvCSXiiDDoaA6tY7/Z67W4aUO7yJDPlLLrnE0M9CjqTVV1xxRUjZYSJr164d/lHivkmDyUs0md2QkY/s2GWLIDC45a+bQ3fyAPd1+8sovqHDhkXQGVK7Ci4QRIeOHYkRgS/22jlbL0MkQrh8xQvSf8AA9yhlqjNJhKIr23+FGE9eleemE3b4uK+EqIxHh+UdBwEQEFtOdOnw8hIi2HMkFXEwcJit3TXDKxrY4W2ppN1zsxPqczS8UockxbgVWU6TXMSIxl8B2WWLwBsCC7XM3J0Pdjwmw3HfZW0ZdjATceo4fh1/+6K1jMdEGNMbn5husblyMo1HcDY9loyrNmOegrQZuSSNtoSd8K45s+1+cOQ9KWK2LeR4MXmUZo6sqoIQEAJCQAgIASFgIQKyRSwUikgSAkJACAgBIZBCCMgWSSFhi1UhIASEgBAQAhYiIFvEQqGIJCEgBISAEBACKYSAbJEUErZYFQJCQAgIASFgIQKyRSwUikgSAkJACAgBIZBCCMgWSSFhi1UhIASEgBAQAhYiIFvEQqGIJCEgBISAEBACKYSAbJEUErZYFQJCQAgIASFgIQKyRSwUikgSAkJACAgBIZBCCMgWSSFhi1UhIASEgBAQAhYiIFvEQqGIJCEgBISAEBACKYSAbJEUErZYFQJCQAgIASFgIQKyRSwUikgSAkJACAgBIZBCCMgWSSFhi1UhIASEgBAQAhYiIFvEQqGIJCEgBISAEBACKYRAegSvWXuz0jL3FC5QMCsrK+InfRUCPiJQMF/+rMzdPjaopoSAEMgDAllZe7cXLZJVtEge2rDp1vQCNlEjWnJCINIW2bNlR4E/ttYrUy2nG/W7EMgTAplpqzIXrs3IyMhTK7pZCAgBfxDIytw+tdpRO+rU0RzuD6BqJSYEtEcTE1yqLASEgBAQAkJACPiMgGwRnwFVc0JACAgBISAEhEBMCMgWiQkuVRYCQkAICAEhIAR8RkC2iM+AqjkhIASEgBAQAkIgJgRki8QElyoLASEgBISAEBACPiMgW8RnQNWcEBACQkAICAEhEBMCskVigkuVhYAQEAJCQAgIAZ8RkC3iM6BqTggIASEgBISAEIgJAdkiMcGlykJACAgBISAEhIDPCMgW8RlQNScEhIAQEAJCQAjEhIBskZjgUmUhIASEgBAQAkLAZwRki/gMqJoTAkJACAgBISAEYkJAtkhMcKmyEBACQkAICAEh4DMCskV8BlTNCQEhIASEgBAQAjEhIFskJrhUWQgIASEgBISAEPAZAdkiPgOq5oSAEBACQkAICIGYEJAtEhNcqiwEhIAQEAJCQAj4jIBsEZ8BVXNCQAgIASEgBIRATAjIFokJLlUWAkJACAgBISAEfEZAtojPgKo5ISAEhIAQEAJCICYE0mOqrcpCIAUR+OWXX7Zv316rVq0SJUokAftjx47Nyso66aSTjj766CRg56efflqyZEn58uXPPvvsJGBHLAiB1ERAfpHUlLu4jgGBkSNHdH7ppeXLl8dwj8VVb7/99htuuOHTTz+1mMYYSBs6dCjsdOrUKYZ7VFUICAHLEJAtYplARI6FCGTl2/dfcn1wjSQXQ+JGCAiBECMgWyTEwhPpQkAICAEhIASSAIF4x4uwGtu7d29aWlr+/MlgBhl24AWOkqA3wALS4W9ySCc4iZg+LKEHh3BeWlYfzgt6Ad2LqtyzZw9/0S18kmDswA49LTnYMRNZYtmJky2ydevWDz/8cM6cOStWrFi1alWxYsXq1q3buHHjSpUqBdT1A23277///uKLL2bOnLly5coFCxYcfvjh1atXb9iwYbVq1QJ9bnCNww4xgIsXL162bFlGRgZxmtdffz3hjUmgMnwEbdeuXT/88ANyX7tmTaFChY499tiLLr64VKlSPj4ink3t3r2bqBE+xH6mp6cjbobkkUceGU8a/H3W119/PXHixEWLFu3cuZM+fNttt9WpU8ffR6i1XCDw7rvvfvLJJ+j/zZs3E2WM2j/99NOvuOKKY445JhetJfYWRs3kyZPHjx8/f/58prPSpUszZGrXrn3uuecyqSWWtlw8HStk2rRp77//PmptzZo1SKds2bLIBXYuuOCCXDSY61sCt0UwtQguu++++9DjRYoUQYNjTnIqAeZfeeWVuXPnHnroobmmPiE3QnmLFi3Wr1/PnF20aFFkSdfkb+fOnadMmXLiiScmhKpcP3T27NkXXnjhunXrYAcB0c5ff/3FUYvnnnvuq6++Ouecc2SOGGyB5cknn5w393dQwq/3zz9/T5v23cSJE/r07XfIIYfkGv9E3bhjxw6sZyYJ2ClYsCCrhXfeead79+4zZswI4/ka9AxKpl+/foULF0bJIKwJEya8/PLLP/744ymnnJIokPXcDRs2NGjQ4Ndffy1QoADH0DB5WYsy+Y0ePRrNHzpbBFvq/vvvf+2115BsyZIl6WmrV69mfQI7N9988+uvvx4ubfnPP/+g05iIIRslhirAumKmZviwNI2zLRL4RgkurO+++44+N2bMmN9++w1Wly5dOmjQIKS4du1a1ARKJFwjFvsRfYfWxsznbAWfzz//HOsYA6tZs2bh4gVqMzMz+fviiy/OmjXrjz/+QEDffPPNYYcdxkX6IkyFjqMgCMbW7Na1y+pVK596usOAgYOGDB3aqnUbrLeNGzc+8cTj/BrEQwNts0OHDpMmTerfvz/LO/ow9jS6FXauueYalFGgjw6i8alTpw4ZMuT5559neQM7OEjKlSvHg0499VSmwyCeqDZzRGDbtm34jDFEWGp//PHHeJHR+fxlIkBYcZ7qcqQ2xwqoyssuuwxDhGl73LhxaEscCdgi8+bNe/vttznJFS5DBK3FagRDBBOE6QznqGFn4cKFbGI89thjcVZrgftF4GfAgAGYw0ZO/GWD5s4770SPN23aFBsZ0wzvQo79wJ4K7dq1e/rppzHzIckwhTsLu5huynSOKjz++OPtoTZHSjAHsT9YGTsDCU8jzpKqVasyJ7GCueiii3JsJOkr0I0zMgqNGDnSQem8886jV3fp/PIfy5bRhxnP4QIBVzPGNC4Qw1H9+vUxqU877TQu4hW76aabwsUO26YsEthmgmw4qlevHtYJm2h8ZWy2bt06XOwkB7WPPPII8zfLTvQJzn/T09D2Rx111B133BE6Hpm20Yd4d9gEZPFp6GciY8vpxhtvjPPMnXf0mK0++OAD2mHgM16MdBAWkrrkkku4bq7k/UEeWwjcFoEfpBVNzbXXXstF9mu2bNkSLlsEaUWwA48I77jjjsNAxl8XLlsEx1WEgGCH7li8eHFWyUSQRDCbml/B5N6WLfnLx0Hg5JNPxpfA7saznTq9+NJL4VJGzzzzjGOIwBF8YZVikeBRYOMmdLYIypTtUbd08MWeddZZ33777fDhw++9996ITu4I0Z4CmpAlaY69qHLlygxPe8g+ECV4p1599VV+xSh0DBFT2S2mA91u4XWciFDF5jWGiJsFU3ZfsZD4CJKYeS+99FI624MPPugYIk6dhPASuC3isOcuwCozOhsBbL8xAitWrOj+NYxlOEKzY4uEbsspW7Tx+rDo56cwuuuz5SiPF5EvZkfEEGWFVLduvc8++3TWrJ8Y21h1eXxKPG+H+Ah2eDobNNgiOBjiSYkvz4IdN/6whp7FI0I4OYtyNguchawvjwuiEcwmwjlztEV69uzZqlWrIAjwt00cbGgPljQ1a9aM7mn+PisOrU2fPp24ftghVWASsEO4mNm7bNSoURzQ8/KI+NkihMOwU4iaQ6LssVEOdSwCPmF21/CCsClDHCsuhJ9//tkL4nbWwZVK+CrSwZxiywbusBHtJNUeqpg2jq9RA1uEWTB0tkg0jGhYs6mRHAEWsFOmTBncIeyg0bftt0UwmwgkzNEWOeOMM6JlZ+EVbBGookcRXWchebGSRAgFt3BekhiDWO+1sD4eOLNsPuGEEywxreJhi3C+rkuXLiNGjIB/IxXW3EQzEaPAprWFcjo4SSiLgQMH9unThwgsR3HghGTtdfAb7fyVHvnmm28Su8Ty0cSxQifs4LhCcHbSbAlVSD8U3nLvcFWoUMHtXfB+o501CeIx7j07yXNTRV/CFsH/776YbdnROdn+as9F9i4hBkeCPSTlhRKOXHA7WtGSmTsvvHDvn3/+SUfiKJM9AyRwrzLTG06tp556CubxQPbq1cvMeSy+a9SokUdAE3L7448/zvYzgRSErHL8hLNPrInhjtjVhNCTl4fSHQkOIA0DcUycOGjfvj3HkrkIOxz0zUvLqXAvWmn16lVwGpbpIUeh4LDENk0ObQuzeETMasdEmufIfgIrgLlH2D1WSyAv5tHGCsHHlhyjg3BA+GJrI+HA+kIAp8zoSJs2bXLWn740m5dGAveLkOKGU9e46diaMSdFDbnoiDD2UbQbLgTWjjDF5robeiwS99dQlNEUJkoRx5U5a+BouuQIfAlUCmC1aNFiujH9ASdfoM+KT+Oc7+VBRxxxRHwe5+NTslUmdG9ULWtZc77Xx8cF0RQjzosOwa6y33eFOEymJXoUG75JsK/BUpMTlLCD/zsJnD1sNtGL6G8k4DnzzDOD6M+xthm4X4RDUNDEmtttiHAFW4RN3FjJTXh9YvKhnDNpEYYIhGFjJpy8WAlgHWxu4YgdMysf8xVVQiaAWFtL4vrME84Oo8MmXugp33xDapFGjZs4F8NSIM4pmlSySXKR80HZTu3R9e25AjvR1vO///1vLpLiMxTJ6IhIILolxw8nS+2B/UCUoElIRcqv2IJhDIWO5ovj4qh9/CLdunWL/jV0Vzi7ao6vknHDEuIDt0UMnxGuLTooZia5YixBwTsZZvmLpe9W1pRJukeWUtox24reG0xsTUd94+9xKOEi0TBkqOOKm02nQmoWRo0cSfy1m3e257Zu3cKGK/ny3ddDUe7bty/Z392kkpOKHTqu3HrrrY5V6q5gc5kTpGTTclPISCSHLFfIkmz/Hg104jzGZjKTxIH+UicsPgZOR95yyy3wxW4vTnG3aMJYZkSQ2BfK2ZcP48wVgTkjghNzXOSsGTkPI35NyNfAbRHj/yFGpHnz5jhCOHvSu3dvFl4Yy//617+Y6iL0u4MCvqOPPvrItpB+VlqoCcIpSG5DyAvkjRo1Ch7feust8kRBfISXlV7LcgdGzMcoR4fHxBYA33kfEOxAGwt96Lz44osfeuihq666CvKyzS9CrCvZ6siFTLZBx5pJLC9BPx1NBKctmt+JNCkA3Wefftq/X1/8nCeecOKBNmg4WsUnoksETarH9mEBob/00kumPhM52dtgjSio888/390IJtd/+u9HsG/nvMIkffXVVz/88MMmhBz1YnL0cXwGSxFm3RxR5mQsfZh9SbOEiPg1/l+hkOQu5L4E3oN8MLlIERl/8nLxRIYM+bWJjmTlefbZZ+POMaoeThkUTzzxBKdks22WlR47+wf6Ndtb4nMRW4ScHLBD7AgRkJydNM9FahgoEQ4GRj05xJyBw2uSIhbk8aH5QE9BCmyiYSwy5Nmmf+CBBxxHOPMaCxWWo9H3smTlJ46UM0EQYhg9rKJv8X4l8HgREv02adJk5MiRvJWGj6EMBcEUTnpH1mFYJ9Hksg9C9jBmepZuVgVRslPYpk0b3nPx3v6PoZyV8bBhwxAhR3ydXQ/zE32RZLpswBuxkXwJj3E0vwm5grJAECRjvvvuu8n77pwVxEuMTscnSZ5jzgq5aaPjkueecYVYsSwJnWE+c1dI1jIvoGneosXoUSOxPwYPGojxgcYEQBZ/T+w/h0k5gndyCnfs0OGQQ4oNHDTYuEMjKiT2K8dHsSmZEghY5uyrGYa85w9dE+FFeOGFF5iwCbkwfZhbcFYnlvjop/PiJDZJ6ZBEx8MFx+ypg1CwsXAkuKWD4Fg8oFtYC7GowCjhhSnRDcb5ChQy7hBEnJ8b3OPgCDcPO5tXXnklO/XMXqRhReE4W/Mk7Mn2ZXJIhD6G/rdkve5AxLEsvAgsqnklGSee+CAvch+YJEzwcs899ziVuYh/kb5nMjKjOTGw7NEDSIfhzItZSMxDSjosDz5IBwPLDHOywrDadNihgIpglcLwISkiQiT7AxNEhK5w14+1HLgtQuDY4MGDGe3MeUxsnIHEtMQKIysigkFrGFD465CO2LDXWJ/xdiv3dadCAgvQ8+yzz2JSdO3aFWcPwwmTn5HDmaDvv/8eBUfSVWTpkE0BfunBMAXZzvUEshDxaCJFeJdpx44d8YtgaeHdQTpodux6k/DYzQ4s8zoGMgeYM1Ac+rWQowgG8/61SpUqBdILwHLPXr2HDBn8w/czWBthgNatV69Fi7uYQqJBAJmHHmxz+RVXfLPfEZp3GnxsAWuYJRoKhfUNFgnrBDQLLNCT0UewGcEOvh+sVd57YJSUj9rHF6aqVq3KeOStvNhMJJNlLY4+hUgSJ7AWh80IduCRCZIPB5ghwL076Qs9asRBAOTxi7AXwMKNxScONow/FmYofxYz2S5jkB3WZIRnzmkwsQXYYbbGGUwmWXKwoh7JksUV3tMLwWzTR5BHJ0TzG385Px3IexpxV9y+wg4jGkY46MrsjKnEQhp2GFAsRMmB5tb8UMUClSkb3pm1+YmBg2bwkdrAbREYRgZMeHwi6MaJavyoEdcJQyOGDsMFh3DETzZ8RQAcTubjEGNkhl3Mx7noFKhvzxluhypTQDoUmJzcUMMOFxlIPXr0cNfHWYUbv2XLlk6SewxNd4WkLIPGA61aIUTYp9yuXXvMSnwezGSIFYvNYOjmnWr480qUKIkX1DZbBNpQOoZmyszcKCPerwE75nRANDuwhqBt06QGcFhARfLhK2W2nMx2Pqs9NCYXI9hhF7Jt27YscpzEMGzumKb0NwgEwJ9hwtZ2xFsFEFaEaMzTeTcIlfnVHOkKgqQ8tgk77KZF+NKyZQcGSfXGWiWPTwzudijkw7RFGviIp0RwxOIKvYHJwvKbmtzl+xu4/LRrIphxvkK3U86xgMZnQ5SYEgy0HCtbUuHgDDJd4ddClkjXEoIjyIigP+KrU5klCzn7zdkEPJDG0+P8mqwF0IBTuiUMmjIF3j6KdcL1bLFiX3xA/359+vbN9tfEAgVJDlWmgNHJAT+TEt75KYJI1kO4UvAG2daH3QSbMn/ZQmI5ToFPBCPEPzE34PZDdvRh29iJoDZpvkYLIvoKzBIoQxRC/N8QGyvO0cRHXzFt4jxA+ZtlTKxPiVv9bImPuMgLChj+bLcxnQXETjxskZgwJRYBxxdBCTHdZXNlNhfZNSSwgBeah1r3GW82cxIRPHjyCW4NdRb/gPoMNsqgQQPPO+98HAkR4zmgJ8ahWWJK8JqQGJT4pzg8LrhHoFsQEOEvLATpw3fddZexMoN7olr2iACC4BgwW8AY+h5vsbwa0zZRFyh/+HIiQy2n+UDksdGGNwinI75ePsTKHKhmrq8HvkcTE2V4UNkCIJTGTodwTLyYyhhV7ObQHWEN9WeOEeWiHRtuMScU2Bbl1Y5E82BasQBdsGBBROYYG0hNIA2EdE2fNv21MWOSwxDBeibkHNGzl4GsifckzDnbvcgEYu790ay8MakJPzcR5URTkvqIkPOkUTjeobCt5jvvvIP7jTiSUC/YHFTZ1uSQPF+xfXn/CYYvX8P7FlgcirgJ8PgSksUSlAAytAHZtuDOYTmPBbtsEbaj2GDjTGkeubLndhzC5tws22yTJ0/GQEaWIZ28zQY8we0YVUy0xGTBCBnxiTmwB/DEUsLIZOZueOut1kYIxYoPguY0BB9uJK6IKZxzsMSvsbMTa1M21GdJxyRBvgCz7U3UNoGHHAe44YYbbCAvZWngNArTGzmNiEJIDiMeLkyYAaYVQwa18OWXXzZs2DCkIibimPhczBFmNDgi+hg3CedJfbSu7LJFSLLLhIcJicDY0GUFQ8Qr6QFCkWrw4J2Mrkm4HH5Itg8PXtPaX/HuQJs5c0GBr3ggzds4raU5zoSxepj986yNGzaQiINH79z5D/6wNq1b3XZbowbnnhtnYnx/HH0Yiffr1y+kK1fI5mQynnMKZsIz2e4xTWSL+N5bYmqQFB343kzOQESD/5joBFxWOOFwlsTUlG2VYYf+RjyW8SvbRp5HejhkhxfErEDg6Oijj+ZGlFty2iIIDGcpfw06uIOIVe7QoQNnbRzd4RE4O6txqo3TCmZBZieFB6cKM5FsuewUXn755az7sRQ5f8F79Q5+V0r9ysgcMPC/XiK8sq+NHv3Io219HLEJxBNLGkOEPUcfHbPxZMfoUPyUHLfhw1ezi+9k1oknMXqWGwGip8kXYK4gF45nkyUShytOrCRQ/kRJs0pxEku6GQ9LmXQvDH/CxQhfhWayV/DXnLzziwWL/CJ0QZIEOIxxZAOVR0RC5cqVnYuhKxDsw9qrbNmy+A8IAOSop/EuhI4RCEYpkJ4Oc4qkFLyOB882IuOEZBh5CYhmVCc+f6dxpjr6MB0gvGs7FBB9GFclrNF7OWnJ8e+Q2iLIBcp5qyVRL1iHRL3wSkg2hckA5IhMhYQgwAAx768xT2fzl9nOOMgTQk/eH8q6mryr7AmyZmMvA+6sStoZK4N4RDhuTeZZ7CpMEOIgSXPMXBBrOwepb5EtEkElzJNxxV/LK+IRQX9l8v79998JXOJAL2Ij1Q+ZOZi/g35uQO1DOZuFb7zxBrGr+Otw8JAmi8Q4AT0uCZpl87tK1arhnbkRAVul5BWgD1NmkxjnOb06vKKhDxPtxF4wyT3xvLJlQxouzKzwcpSUlHOUBp0ZatbI/MuLQUgMT9A3Gxwk/Aw1OxAPL40bNyYZK+sTzETOh/rLkb22COFynGkOu+JjtnYEBi/hNUQMF9BPZDFp6JiiQj3FOkIJtEB0BVl6wSrQpwTaOAdM2LN3HpEcfZj48U6dOhlekoAjRzrJUUAiZLIOOy9sarj9bUnQzVD+hBnwl4grlL/vc5m9tohh1XeGE9jFk4MXw4UMES8dCazCroMiOm3EVy8gWFjHcOH+ayGRKUtSMvUxR4jJxFRAZ+h8OxzsgK6CEBACQkAICAEhIAS8IyBbxDtWqikEhIAQEAJCQAj4j4BsEf8xVYtCQAgIASEgBISAdwRki3jHSjWFgBAQAkJACAgB/xGQLeI/pmpRCAgBISAEhIAQ8I6AbBHvWKmmEBACQkAICAEh4D8CskX8x1QtCgEhIASEgBAQAt4RkC3iHSvVFAJCQAgIASEgBPxHQLaI/5iqRSEgBISAEBACQsA7ArJFvGOlmkJACAgBISAEhID/CMgW8R9TtSgEhIAQEAJCQAh4R0C2iHesVFMICAEhIASEgBDwHwHZIv5jqhaFgBAQAkJACAgB7wjIFvGOlWoKASEgBISAEBAC/iMgW8R/TNWiEBACQkAICAEh4B0B2SLesVJNISAEhIAQEAJCwH8EZIv4j6laFAJCQAgIASEgBLwjIFvEO1aqKQSEgBAQAkJACPiPgGwR/zFVi0JACAgBISAEhIB3BGSLeMdKNYWAEBACQkAICAH/EZAt4j+malEICAEhIASEgBDwjoBsEe9YqaYQEAJCQAgIASHgPwKyRfzHVC0KASEgBISAEBAC3hGQLeIdK9UUAkJACAgBISAE/EdAtoj/mKpFISAEhIAQEAJCwDsCskW8Y6WaQkAICAEhIASEgP8IyBbxH1O1KASEgBAQAkJACHhHQLaId6xUUwgIASEgBISAEPAfAdki/mOqFoWAEBACQkAICAHvCMgW8Y6VagoBISAEhIAQEAL+IyBbxH9M1aIQEAJCQAgIASHgHQHZIt6xUk0hIASEgBAQAkLAfwRki/iPqVoUAkJACAgBISAEvCMgW8Q7VqopBISAEBACQkAI+I+AbBH/MVWLQkAICAEhIASEgHcEZIt4x0o1hYAQEAJCQAgIAf8RkC3iP6ZqUQgIASEgBISAEPCOgGwR71ipphAQAkJACAgBIeA/Aun+N6kWhUByITB58uRNmzadc845ZcuWTQLOOnfuDBcXX3zxSSedlATsfPLJJ7NmzapSpcpNN92UBOyIBSGQmgjIFklNuYvrGBD4cOLEBQvmH3fccclhi7zwwgtbtmwpUaJEctgi48aN69u3L6aVbJEY+rSqCgHLENAejWUCETlCQAgIASEgBFIMAdkiKSZwsSsEhIAQEAJCwDIEZItYJhCRIwSEgBAQAkIgxRCIU7zIrl27Bg8ePHPmzOXLl69bt6548eJ169Z9/PHHDzvssDACvnfv3g8++OCzzz5btmwZ7KSlpZ1yyimPPfbYUUcdFUZ2oJnwzLFjx65atQoBFShQgNiI9u3bH3PMMSFlJyCy9+zZA1DTp03btHlzeoEC4NOoceMiRYoE9Ligm83Kyvroo4+GDx++YsUK+nCtWrU6dux4+OGHB/3c4NqfMmXKgAED/vjjj927d1evXv3555+vVKlScI9Tyx4RGDly5BtvvEE3Qy7p6emlSpU6/fTT77rrLvSMxxasqsaoefXVVxcsWLBz586MjAzYOeGEE2677TYmNavo9EjMjz/+2LVr14ULF/7111/58+cvWbJkzZo1b7755gsvvNBjC75UC9wWQX0TKzdo0CA6InwWK1YMu+Sff/75+uuvx4wZM2fOHATpCydxawReunXrNn/+fNgx8xAinD59+ttvvz1+/Ph69erFjRJfHjRp0iTMDrojrSEd5qcdO3Z89913TFETJ0687LLLmKV8eVDYGyHe84m2j86dPx9lyoc+/Ntvv/7ww4wuXbsRBxo67pAywZ7vvPMO8i1atCh9+Ntvv/3www+xsI8//vjQsUO/ve+++zBEoJxRCTv04ddee42/p512WujYSRqCOYB27bXXou3hCFVfqFChv//++/fff//mm29OPvnk0NkimzdvxoRC1cMOc3bhwoUxR2Dnq6++YiHHaAqX4FBibdu2JfSb1TXK/5BDDmG+xsZCFaxevTrZbBEmbERVuXJl3AZnn302jhBsERaXDz744MqVK88///wffviBOiESIaLCFmbJddFFF5UpUwbKf/rpJ/Tgn3/++cADD8yYMSNEvKDB6X/r169nQXzuueceeeSRdMrFixe3atVq7ty5t956K24SnFgh4iggUgFq0KCBuzIzH3r4EdwhBQsW/Pnnn4cMHsSI7dTpmS5duobOYnv22WdxgPXo0QONw+RNH27evDlDsmHDht9//z0MBoRkQM1iTH/++ed046uuuoo5D51z//3305PRMDgvDz300ICeq2YPggDmOytsFGO1atVefvll3AZoTmwRDBRskThPdQeh0+NPmZmZ119/PZMXOpP5+7zzzjO2yNatW2GHM/9oiXDpgWbNmr355ptYIZ06dcJkRNWj/5Eak3L58uXjzE7gfhHEjIMOrUfBkRPaHPXXuHHjX3/9la4JFh57gw3VOnTo0KVLF7ecyG2AjcypQkQIR/i6baDTCw1I5Mwzz1yyZAmV3dIhZwPqg06JaYU299JUctdB3AXy5x8w7FUWdgYoxirlbl27LJg/H6BC595DXkiZtalhp2rVqhjWmNfk6uCU7A033BAugW7cuJG1KfOBYYfdUhw8Rx999LZt20aMGNGmTZtwsZME1LLCfvjhhzFEKlSogF+Ev46GYc1z4oknho7H7t27Y4iwnJ49e3bE3h8mV+jYmTp16rvvvstE/P77719wwQWOdNBs7G/Gn53AHRJwiEObv3wc9ihfffXVuEPorygL53ooChjF0BnBDhO28TcSExMKLhwiMRP3ycYlHX6qWLGicYewsnRqpnIBfFrcdbdjiAAFV0499dSSJUthpuBdCB047dq1I8jJkTuF+vXr47mEkdGjR4eOHdbc0O9mB+sK0wRGhgwZgiM9dByFnWCskGHDhsHFl19+6TZEwssXIY8Q//TTT4c6psrgz8zL/jvhO3j03YZIAqUTuC1yIN5Q6ywl0ePswB2oToiuowTxjkAwHIWI7AORivloXFlsKB6oTkpdR74YZ85UZ3gnTITJm4vfT5+GbzNcgBiT2k0zjFx33XVcIYrLfT0UZRyTEXQyEjGqYApXJeEjEb/qa9AI/PLLL4iAboaPKmLgBP3oINonIpCFGezcc889ScDO9u3bzaBgdyIIuHLRZjz2aAxZ9Mu1a9cSmkCw5KJFiwhHCLUVwtyzYcMGPMN4uticJnqAXfZcCMCeWxAHZ4KI9YMXogdCLZ34oEqXPqbavqNGxsMXrrCnbCEy9jQdO9tfQ3eRMBHWPNjTdOyQHtkLHeYOwWxYU2abjBgR52J4C2xoQjzOb3pUeLlwKGdfHvXFVyIKLDGt4mGLwPMzzzwzatQoIo0j1tkhVd9Dhw4lFAt2kmC9hXQ4L/PEE08Qpkrcg9NZVcgRAaArV658jtVCVAFbxPjDQkTzgUhFwxJaiIePCkbtHqimrgeBAAe1aBZz0JKpLo88snimheQwRGCEoHsGBQa6PeM98D0admo5joEtQjR7o0aN8JoSckyZZXdIz9pxIIgTB7BwzTXXcMqc6H1zMpsQ6zx294Tczm46jOCW5zQyRyI//vhjjisT6B5SduKJIUp27do15onJoXBZLbGRnBy8IBeUDzviFEJ3LCie3TigZxlHFD620G1fZguIOeieBItPwx0Bqgxz/Poca82W3/hfDNwvQjQ7WW7YZuNEBg4u+Mcc4y8QhHGxggnVu3dvFlskR+GsgeHFiC2MQ45dM47LQz9WyJ133mkWkeFlJ87jh27M9pzpxvYsL/ICwrx587idYw55acSee5kIOYfJWrZ06dL2UJUilJjjhKzT8IWH66RktgK6/PLLiVqFHdZpYT8ijso69thjzc4ycTD/+te/smU5zhcD94vAKixxggu7Et1N2fwldoZA6zhzm/fHcQiKQ8gcMzFuA8MLzWJasSed9/bj3AIJ6MwTybLnnk1ZTWKmxJkYmx/H6CWvTASFHAGb8f2+dDK36T/bcQAAEKxJREFU3tbI6QkRdaz96lhRbgonTJjAV0arMbDcP1leJgTNuEAcOmGBVJisEDhiEx2o61RTISAEateuTaQIhghnrQN6RDyb5dAZQbj4RTp37hzP5wbxLJQV6Q3NsWTOOuEKDeIpsbYZuC1iCMLycGs3ksMQjUxipVjJTXh9E+CC79cd+IJ1QgIDglghL0RTOBJxfDmw4MymLCXZeyKIFXYs6aYJlzsEvD5mTEQ8L9F5mzdvSk8vSAJTd/e2gdocaejVq5cRsVNz6dKl7J/Sw2+55RanMzi/Wl7AFiEtitOfoZYrZkiyNex2+FnOSNKQd8QRR9CRYOeKK65gRzt0AyRaEMaFzMBhpET/Gq4rDHOyx7L+RNV/+umn7oGTKEYCt0VMTnSOZtx7772YICwlSZTL0X/iJc866yw6qHsHDtcCRjSJcZwPX62K6ucEFPLD4GD6Mezg+CHRTf/+/U26Gy5GyBKfXp8+fUjnQByGVQOS+cZ5gQ5nzQnFxWTkJN4ZZ5yBpWiyXUFzNDswS9pZ3FpWsRNBp+9fMzN33nnH7aQCw1bjwzzXq2cPhjReBLqEM3kDCxhGfJxffacq1w1Cc4MGDdhwxAyFHSJFeKcGrTFgL730UnezSBknyosvvvj666+7R6u7TsLLsEOP5RVXaBjYwZduPM8szZs2beruqJT5lQg23nIA7wmnPIkJIDkp628YrFGjxltvvUXnYRUH5tj0xP4bl7lhn7mQAeWofVMwJ3EswYch/OSTTzJkiMklD2S/fv1MT+MrGp63DZAJLYJUmCJElCGG7WLbog52eCXQlVdeCc0o/0cffRR2jHSYBTjriskVwQ4sIDKGGN7TIGyXwONF0Gv//ve/McEGDhxImCTswRIdlNSzxJGQ937Nmv+P/uMnjpKSudn4HvgKwzjGiTghGUsELon6isojgT96GXmwawipxjPM3g3J+FBwERtPDCpyWbKnQ0g/7+XBIMMucRhMFBfOc0m1SbDqJZdcgrFInn7DDt2UhIn0VKzGiFQTmCZk6mSvERxIG/zee++x6HFaS+ICmDzQqnWvHj2efqr93v1n4fLv33AsXbrMM506uRUNzoZPP/nYgYKjSQzyN996m/yGzkUbCvRVbEqS/aOGkKY59UCMJwOT2Rp+HSIZkjhymU5wZBK1TeCXhVkmTa53EiKTdw4ucFsadYlRyFc3O9Qh/BxLhaHaunVr5omwb/87krKqAOaEiTBPkxIQNYKPBEHgoEIu7GjzF33I9pmhGS3KW0HcCzmkw3lgq1JHMi442UuWTnQmKcLoPFi6UM4HdjDiH3roIUcEXGTjm7fowT7zNzFYTOS2vbgKDQ8jvGENQ6pnz56wAyNQjkJDyaMcHHbgnVmYOY4VC8dImdEoO7/6UgjcL0KP5DQvZiP9Eg5htWXLlmQfYg6jd7Jkca+0DLcsPc0HJwSbjrwnxRdWfWkEdpiDMY/wQMILHNE1f/vtN5L583qFJk2aRGTPJWE8PFKBQYUphvaHd18o8asRyMYQwdI3vZDklSRKYdUCR7CD5UHXNM9iQcPRp9tvv51BxYwLa6gPv8iwup39YU5Eng8eOrRW7TpYIeSDh+CaNWt1696dPuCe6ugPPXr2Mv969updrly5K6680qwOreIRM5Q+SedkMWQMEd7MwFtd2EV2s8Ov+A+++OKLadOmcayRaZtZ3OkS9nAEzSyjMTLoxrDDX5BnbUPHdrOD5cHEAC8kA0XJ8AIEt8K1h53koATkmd5QFxw2RJNjgqBD6FEszAiWZ+/MYRMzhWXbfxT/LETJfMFk71SwoWDYYSuQ/sMam1FAT8MJh4GF25vNDiZsh07WaSSMJxicnsYWFQsSlL/zqw0F2GERgu8Ke50kh+gxIx0KBFrhKXCzA/EIiAGFKFmN4CPgq79c7DvV4rTI3IPdgN/e3/0wHgHb/MXsMCf+zUO5aB5tKjhkOAXO3dAd8SU4NZ2fElsw9NO9onNxQpibHfQ7UsQ1wnXqo8rpmiY1dWJZcD/dsIOOwC+C7jA/OVw4BTZxmKjoiFj6SISvLFxYIuC3dLfmsczuG1Ymj8Mx5uPLXMg2vano3uuaNmSbySMlB68G++ga+GWIMsMxetmhw42JeYF1wpWDdE4Whbc3a9r9lR5sSh6k2sEJKF+4RI2SlQ5ex/uvRtaGGFPGjcyH6E6mbTpABJ0wywoJpzrXqY89za45X6PznHqnwceakOQQbNjhmCIR2YgJR040O8wQTIHUQRFRn/cSt2jRAm9f7oJb8Y/itwef6K1MH3mMQ1MofLooD2KxW6dOHd+faMTEVIcOxMhg7Jju5Mgu4omYv+wCg+qBKkTUT8hXfG90JHQXLs9odljO8Z4XE5IF+yyzcYpwJSGk5vhQKMS0gh1Ew1iIhh13CN5QdmkNp3R7XD4sXRhoOTYeXYFDSdzOSORdUQxSU+H//xdd28crhjH+wqQJIqPMx3mEu+xcJKAGnzBv3cz2V6daQgr7qE9Lo2/xN5oA5yICZpXM6V+mLuywbt26YYuguaJvSeyVfczsTwzlGCLQwxVDlSmYzsoVTBZzhZcyYJqMHz8+scQH/XSYxQphoIIAZYwPPApVqlRh2W2uHIQA9iWrVTvWqhzYsMDH0GzKyBHjErsfteL85DDFaVgqMBiZSIjc4j2X7DGbdxU5dRJYcBNs2IFgInhYhWfLDvMHUnPYx4zGDovYV00gO8n6aCMm5mxGDbaI+eqWnZtxhhgb2ezsH6iCu3ICy5izDA1jV0FGBLW4kLGlsO3ocvhF8D0wlzl9L4FkZ/toiMc1xeIq29U1t0A5bi1zL5XvvvtuvOmstbJtLXcX42GL5I4ytkJYgbEVkrvbbbgLmb300ksYzizR2OwgxAQnJPK2gbZYaYCXsmXL0lN5Lbs5ToKjkmFmMlLE2loq1MeC+fGHGbc1apS7pYMlELFqwSn91FNPcaYRk4WkEWPHjqUzWEJeTGSgT3FJ0mnZHUexIiD8IrQQdq9GTCDYXxnnP5vafvk1E8UvAUzEt/LydgYOo8Zs1od34DzwwAP4FNmrBU+cW/gzTMFHeC21RXAksGVozlD5yG38m0JxE+lDcCjxMbh5WChbuNfuERbWAcSgsVPI4gafECeJ2C51h5t5bCdFqrG3mrlrFwv0UPPL/I23nP04kvNy8I1dZKOPwsgUMwFrG+JwjYeSPvzcc8/BSHiHZBilkCPNRDBwJCrsCfcIWqensWVMQCsLUQJ1nWROOSJgWwUGDluZDRs2JIgQvyNMcQwWIv0dOIGfo8kFrKg/5jlC5CLiznLRVGJvYTuDLTECI8yr2NlBJC8ydgmsJZaw3D2dHomC4Dwk+03ICF8rLh/mp9y1ltx3EdHWscPTrVq3MZuS4WWWo5icrOGVlsYXzatKCYFiXwN9FEam6MMEX6NV2XLCX4WPBD+lyRAaRnaSj2YGDkEVBKWhYRBWeBkkSSubTSxIYIHTZ3Q5PhEZfcLFHcEGLD6Z1NjKZ1uT2Zndah9ZsNEvQgQNay/OHIZdj/PyHQ7KnnTSSUZgiJAAMbY2fJRf/JtCKMQtYoWQkQLF4ZzKiz8lNj8RJzNTXRIYahjQHE10NsWN9gl7gAUePiK38ItwRJN1Hh+b+1JK0UZnQ6UQPxtqQwSREeXN4RQKhhF8/Gj+8HqRDRfoAQYOq9D27duzLs1dxPeB+rONtgibuBhfIX1znhto4gHZl3H6H5Y+SpywR3ed8JY5m46lRXBueFkIiHLWQ/gSjju+hhOmF9CDgm6WHovxwRlvODLPYquYgm25UnKHA0yxf8qZdgzr3LWgu/xFgCCeKVOmMG2HOsTKYMKykwWJY1Fxfh4L2J6g77wIjs0m8mkRb+Cvs8C6PRqUHQlIOJ1BWG9e8LLhXrZmsKiIFGFxSYwFLzLAx0VKnPC6Hx955BH2mLCISV5HWC5H75zBZgPgltCAATpnzi/vvvueJfTkmgyESx4Ist5hcRK8RtQI3krCP9GzuW4zsTfiyWP/Hg3DGGQ8MkPgRQ/veEwsmL4/nQALDMQbb7wxCSRC7iUSUrCVSbwB0RUMHKKUwqstCQ0hjodQXA7588ITTlCSYQUx+dgHrLNFiGlH95133nnhFZtbPORrYeOQmHBMfg6A0Skjckm5K1teRk2wj4s7hH7JNg22CCFmySEmH5EHENZDDeo3wJhOAnBIIUPMPNM2p/jYZCQlDOctw7tOIEyE1FsffPABnRmTmtBy7KokEJOPHThRTSER0leQA9Sk60gUGX49l2RdBBtwBh5rHm1Jtu477rjDr8bj3w5HFhANOYtxWRGKy+am7/aiXbYI7HFukGARfw2u+EvOPBEdhyon5yzuEA4Q4qDzXX7xZA12iMMlcBVe0Bf+OujiyUigz0KlsmLwfdEQKM0HaRyhk1AE3x5yxwTBzxzqPkyMCFtOHNODC3bQopOhHQQK/RQoAvQ08kAG+oh4Ns5gwf7gZRoMHMIs0JahntSOP/54PIjEejNk/A0TcYRily1CdzSUOQWH0JAWDCP0xSTgy/CCBg+pLOJDNiiFWulEowRHfJytbsrRdcJyxRDv8BIWslOBzlD3q2gBGXbwImD+ml9DzSDE4xblE82pX1dsjF31ize1IwSEgBAQAkJACNiPgGwR+2UkCoWAEBACQkAIJDMCskWSWbriTQgIASEgBISA/QjIFrFfRqJQCAgBISAEhEAyIyBbJJmlK96EgBAQAkJACNiPgGwR+2UkCoWAEBACQkAIJDMCskWSWbriTQgIASEgBISA/QjIFrFfRqJQCAgBISAEhEAyIyBbJJmlK96EgBAQAkJACNiPgGwR+2UkCoWAEBACQkAIJDMCskWSWbriTQgIASEgBISA/QjIFrFfRqJQCAgBISAEhEAyIyBbJJmlK96EgBAQAkJACNiPgGwR+2UkCoWAEBACQkAIJDMCskWSWbriTQgIASEgBISA/QikR5OYmZk5efLk6OvRV7Kysk455ZRSpUpF/6QrqYnAnDlz1q1b54X3FStWeKmWuzo7duyYPXu2l3vT09Nr1qzppabqpAgC06dPp/94YXbNmjVeqoWozq+//rp+/XovBO/evfvCCy9MS0vzUll1kh6BLVu2zJw50yObaN3omtlcWr169fnnnx9dNfpK4cKFPXbc6Ht1JSkR6NevX//+/RPLWlbm7k/HffjpBxO9kFG69GEfjBufL1+Wl8oJqVMwf4GEPDdlH9qsWbO5c+emJvsNGzb0yHjLli2xRTxWVrWkR2D58uUezYYDQfE/tkixYsXKlClzoKrR17FFoi/qSiojEGsXysjI2Lt3r4+IlS5des/atfl2Znps87CM/KccVsVjZVVLBQQOO+ywmNRgEjiG8+fPD9f89S7fIkWKeK+smkmPQIECBWIaNQBStGhRNyxp7LOY7xS2bdu2a9cu9885lhmHEJFjNVVIBQToQtu3b2ePLyZmS5QogcvOF2cvBGzevDkm4wb9Sx/25ekxca3KdiJAF8LbvGfPHu/koQBLliwZ6i7EhsvWrVvh3TvXjFlGbqi59s6sauaIAGof+yHHau4KEQPnv7aIu5LKQkAICAEhIASEgBCIDwIxOOXiQ5CeIgSEgBAQAkJACKQUArJFUkrcYlYICAEhIASEgHUIyBaxTiQiSAgIASEgBIRASiEgWySlxC1mhYAQEAJCQAhYh8D/AWOwvkmQ3wc5AAAAAElFTkSuQmCC\" width=360>\n",
        "</div>"
      ],
      "metadata": {
        "id": "GhRt4W4piLRY"
      }
    },
    {
      "cell_type": "markdown",
      "source": [
        "**Code**:"
      ],
      "metadata": {
        "id": "ItQTlVBEzY_U"
      }
    },
    {
      "cell_type": "code",
      "source": [
        "# Lab 4 Multi-variable linear regression\n",
        "import tensorflow as tf\n",
        "import numpy as np\n",
        "\n",
        "x_data = np.array([[73., 80., 75.],\n",
        "          [93., 88., 93.],\n",
        "          [89., 91., 90.],\n",
        "          [96., 98., 100.],\n",
        "          [73., 66., 70.]])\n",
        "y_data = np.array([[152.],\n",
        "          [185.],\n",
        "          [180.],\n",
        "          [196.],\n",
        "          [142.]])\n",
        "\n",
        "tf.model = tf.keras.Sequential()\n",
        "\n",
        "tf.model.add(tf.keras.layers.Dense(units=1, input_dim=3))  # input_dim=3 gives multi-variable regression\n",
        "tf.model.add(tf.keras.layers.Activation('linear'))  # this line can be omitted, as linear activation is default\n",
        "# advanced reading https://towardsdatascience.com/activation-functions-neural-networks-1cbd9f8d91d6\n",
        "\n",
        "tf.model.compile(loss='mse', optimizer=tf.keras.optimizers.SGD(learning_rate=1e-5))\n",
        "tf.model.summary()\n",
        "history = tf.model.fit(x_data, y_data, epochs=100)\n",
        "\n",
        "y_predict = tf.model.predict(np.array([[72., 93., 90.]]))\n",
        "print(y_predict)\n"
      ],
      "metadata": {
        "colab": {
          "base_uri": "https://localhost:8080/",
          "height": 1000
        },
        "id": "0Z2kdG410Uv7",
        "outputId": "2945247b-02f9-42f4-d1a9-2fb3d902bdc4"
      },
      "execution_count": null,
      "outputs": [
        {
          "output_type": "stream",
          "name": "stderr",
          "text": [
            "/usr/local/lib/python3.10/dist-packages/keras/src/layers/core/dense.py:87: UserWarning: Do not pass an `input_shape`/`input_dim` argument to a layer. When using Sequential models, prefer using an `Input(shape)` object as the first layer in the model instead.\n",
            "  super().__init__(activity_regularizer=activity_regularizer, **kwargs)\n"
          ]
        },
        {
          "output_type": "display_data",
          "data": {
            "text/plain": [
              "\u001b[1mModel: \"sequential\"\u001b[0m\n"
            ],
            "text/html": [
              "<pre style=\"white-space:pre;overflow-x:auto;line-height:normal;font-family:Menlo,'DejaVu Sans Mono',consolas,'Courier New',monospace\"><span style=\"font-weight: bold\">Model: \"sequential\"</span>\n",
              "</pre>\n"
            ]
          },
          "metadata": {}
        },
        {
          "output_type": "display_data",
          "data": {
            "text/plain": [
              "┏━━━━━━━━━━━━━━━━━━━━━━━━━━━━━━━━━━━━━━┳━━━━━━━━━━━━━━━━━━━━━━━━━━━━━┳━━━━━━━━━━━━━━━━━┓\n",
              "┃\u001b[1m \u001b[0m\u001b[1mLayer (type)                        \u001b[0m\u001b[1m \u001b[0m┃\u001b[1m \u001b[0m\u001b[1mOutput Shape               \u001b[0m\u001b[1m \u001b[0m┃\u001b[1m \u001b[0m\u001b[1m        Param #\u001b[0m\u001b[1m \u001b[0m┃\n",
              "┡━━━━━━━━━━━━━━━━━━━━━━━━━━━━━━━━━━━━━━╇━━━━━━━━━━━━━━━━━━━━━━━━━━━━━╇━━━━━━━━━━━━━━━━━┩\n",
              "│ dense (\u001b[38;5;33mDense\u001b[0m)                        │ (\u001b[38;5;45mNone\u001b[0m, \u001b[38;5;34m1\u001b[0m)                   │               \u001b[38;5;34m4\u001b[0m │\n",
              "├──────────────────────────────────────┼─────────────────────────────┼─────────────────┤\n",
              "│ activation (\u001b[38;5;33mActivation\u001b[0m)              │ (\u001b[38;5;45mNone\u001b[0m, \u001b[38;5;34m1\u001b[0m)                   │               \u001b[38;5;34m0\u001b[0m │\n",
              "└──────────────────────────────────────┴─────────────────────────────┴─────────────────┘\n"
            ],
            "text/html": [
              "<pre style=\"white-space:pre;overflow-x:auto;line-height:normal;font-family:Menlo,'DejaVu Sans Mono',consolas,'Courier New',monospace\">┏━━━━━━━━━━━━━━━━━━━━━━━━━━━━━━━━━━━━━━┳━━━━━━━━━━━━━━━━━━━━━━━━━━━━━┳━━━━━━━━━━━━━━━━━┓\n",
              "┃<span style=\"font-weight: bold\"> Layer (type)                         </span>┃<span style=\"font-weight: bold\"> Output Shape                </span>┃<span style=\"font-weight: bold\">         Param # </span>┃\n",
              "┡━━━━━━━━━━━━━━━━━━━━━━━━━━━━━━━━━━━━━━╇━━━━━━━━━━━━━━━━━━━━━━━━━━━━━╇━━━━━━━━━━━━━━━━━┩\n",
              "│ dense (<span style=\"color: #0087ff; text-decoration-color: #0087ff\">Dense</span>)                        │ (<span style=\"color: #00d7ff; text-decoration-color: #00d7ff\">None</span>, <span style=\"color: #00af00; text-decoration-color: #00af00\">1</span>)                   │               <span style=\"color: #00af00; text-decoration-color: #00af00\">4</span> │\n",
              "├──────────────────────────────────────┼─────────────────────────────┼─────────────────┤\n",
              "│ activation (<span style=\"color: #0087ff; text-decoration-color: #0087ff\">Activation</span>)              │ (<span style=\"color: #00d7ff; text-decoration-color: #00d7ff\">None</span>, <span style=\"color: #00af00; text-decoration-color: #00af00\">1</span>)                   │               <span style=\"color: #00af00; text-decoration-color: #00af00\">0</span> │\n",
              "└──────────────────────────────────────┴─────────────────────────────┴─────────────────┘\n",
              "</pre>\n"
            ]
          },
          "metadata": {}
        },
        {
          "output_type": "display_data",
          "data": {
            "text/plain": [
              "\u001b[1m Total params: \u001b[0m\u001b[38;5;34m4\u001b[0m (16.00 B)\n"
            ],
            "text/html": [
              "<pre style=\"white-space:pre;overflow-x:auto;line-height:normal;font-family:Menlo,'DejaVu Sans Mono',consolas,'Courier New',monospace\"><span style=\"font-weight: bold\"> Total params: </span><span style=\"color: #00af00; text-decoration-color: #00af00\">4</span> (16.00 B)\n",
              "</pre>\n"
            ]
          },
          "metadata": {}
        },
        {
          "output_type": "display_data",
          "data": {
            "text/plain": [
              "\u001b[1m Trainable params: \u001b[0m\u001b[38;5;34m4\u001b[0m (16.00 B)\n"
            ],
            "text/html": [
              "<pre style=\"white-space:pre;overflow-x:auto;line-height:normal;font-family:Menlo,'DejaVu Sans Mono',consolas,'Courier New',monospace\"><span style=\"font-weight: bold\"> Trainable params: </span><span style=\"color: #00af00; text-decoration-color: #00af00\">4</span> (16.00 B)\n",
              "</pre>\n"
            ]
          },
          "metadata": {}
        },
        {
          "output_type": "display_data",
          "data": {
            "text/plain": [
              "\u001b[1m Non-trainable params: \u001b[0m\u001b[38;5;34m0\u001b[0m (0.00 B)\n"
            ],
            "text/html": [
              "<pre style=\"white-space:pre;overflow-x:auto;line-height:normal;font-family:Menlo,'DejaVu Sans Mono',consolas,'Courier New',monospace\"><span style=\"font-weight: bold\"> Non-trainable params: </span><span style=\"color: #00af00; text-decoration-color: #00af00\">0</span> (0.00 B)\n",
              "</pre>\n"
            ]
          },
          "metadata": {}
        },
        {
          "output_type": "stream",
          "name": "stdout",
          "text": [
            "Epoch 1/100\n",
            "\u001b[1m1/1\u001b[0m \u001b[32m━━━━━━━━━━━━━━━━━━━━\u001b[0m\u001b[37m\u001b[0m \u001b[1m0s\u001b[0m 358ms/step - loss: 2149.2371\n",
            "Epoch 2/100\n",
            "\u001b[1m1/1\u001b[0m \u001b[32m━━━━━━━━━━━━━━━━━━━━\u001b[0m\u001b[37m\u001b[0m \u001b[1m0s\u001b[0m 40ms/step - loss: 677.0305\n",
            "Epoch 3/100\n",
            "\u001b[1m1/1\u001b[0m \u001b[32m━━━━━━━━━━━━━━━━━━━━\u001b[0m\u001b[37m\u001b[0m \u001b[1m0s\u001b[0m 56ms/step - loss: 215.5705\n",
            "Epoch 4/100\n",
            "\u001b[1m1/1\u001b[0m \u001b[32m━━━━━━━━━━━━━━━━━━━━\u001b[0m\u001b[37m\u001b[0m \u001b[1m0s\u001b[0m 60ms/step - loss: 70.9263\n",
            "Epoch 5/100\n",
            "\u001b[1m1/1\u001b[0m \u001b[32m━━━━━━━━━━━━━━━━━━━━\u001b[0m\u001b[37m\u001b[0m \u001b[1m0s\u001b[0m 55ms/step - loss: 25.5864\n",
            "Epoch 6/100\n",
            "\u001b[1m1/1\u001b[0m \u001b[32m━━━━━━━━━━━━━━━━━━━━\u001b[0m\u001b[37m\u001b[0m \u001b[1m0s\u001b[0m 59ms/step - loss: 11.3735\n",
            "Epoch 7/100\n",
            "\u001b[1m1/1\u001b[0m \u001b[32m━━━━━━━━━━━━━━━━━━━━\u001b[0m\u001b[37m\u001b[0m \u001b[1m0s\u001b[0m 57ms/step - loss: 6.9171\n",
            "Epoch 8/100\n",
            "\u001b[1m1/1\u001b[0m \u001b[32m━━━━━━━━━━━━━━━━━━━━\u001b[0m\u001b[37m\u001b[0m \u001b[1m0s\u001b[0m 58ms/step - loss: 5.5189\n",
            "Epoch 9/100\n",
            "\u001b[1m1/1\u001b[0m \u001b[32m━━━━━━━━━━━━━━━━━━━━\u001b[0m\u001b[37m\u001b[0m \u001b[1m0s\u001b[0m 56ms/step - loss: 5.0794\n",
            "Epoch 10/100\n",
            "\u001b[1m1/1\u001b[0m \u001b[32m━━━━━━━━━━━━━━━━━━━━\u001b[0m\u001b[37m\u001b[0m \u001b[1m0s\u001b[0m 43ms/step - loss: 4.9402\n",
            "Epoch 11/100\n",
            "\u001b[1m1/1\u001b[0m \u001b[32m━━━━━━━━━━━━━━━━━━━━\u001b[0m\u001b[37m\u001b[0m \u001b[1m0s\u001b[0m 40ms/step - loss: 4.8953\n",
            "Epoch 12/100\n",
            "\u001b[1m1/1\u001b[0m \u001b[32m━━━━━━━━━━━━━━━━━━━━\u001b[0m\u001b[37m\u001b[0m \u001b[1m0s\u001b[0m 56ms/step - loss: 4.8798\n",
            "Epoch 13/100\n",
            "\u001b[1m1/1\u001b[0m \u001b[32m━━━━━━━━━━━━━━━━━━━━\u001b[0m\u001b[37m\u001b[0m \u001b[1m0s\u001b[0m 59ms/step - loss: 4.8736\n",
            "Epoch 14/100\n",
            "\u001b[1m1/1\u001b[0m \u001b[32m━━━━━━━━━━━━━━━━━━━━\u001b[0m\u001b[37m\u001b[0m \u001b[1m0s\u001b[0m 58ms/step - loss: 4.8704\n",
            "Epoch 15/100\n",
            "\u001b[1m1/1\u001b[0m \u001b[32m━━━━━━━━━━━━━━━━━━━━\u001b[0m\u001b[37m\u001b[0m \u001b[1m0s\u001b[0m 33ms/step - loss: 4.8680\n",
            "Epoch 16/100\n",
            "\u001b[1m1/1\u001b[0m \u001b[32m━━━━━━━━━━━━━━━━━━━━\u001b[0m\u001b[37m\u001b[0m \u001b[1m0s\u001b[0m 54ms/step - loss: 4.8659\n",
            "Epoch 17/100\n",
            "\u001b[1m1/1\u001b[0m \u001b[32m━━━━━━━━━━━━━━━━━━━━\u001b[0m\u001b[37m\u001b[0m \u001b[1m0s\u001b[0m 38ms/step - loss: 4.8639\n",
            "Epoch 18/100\n",
            "\u001b[1m1/1\u001b[0m \u001b[32m━━━━━━━━━━━━━━━━━━━━\u001b[0m\u001b[37m\u001b[0m \u001b[1m0s\u001b[0m 34ms/step - loss: 4.8620\n",
            "Epoch 19/100\n",
            "\u001b[1m1/1\u001b[0m \u001b[32m━━━━━━━━━━━━━━━━━━━━\u001b[0m\u001b[37m\u001b[0m \u001b[1m0s\u001b[0m 33ms/step - loss: 4.8600\n",
            "Epoch 20/100\n",
            "\u001b[1m1/1\u001b[0m \u001b[32m━━━━━━━━━━━━━━━━━━━━\u001b[0m\u001b[37m\u001b[0m \u001b[1m0s\u001b[0m 147ms/step - loss: 4.8581\n",
            "Epoch 21/100\n",
            "\u001b[1m1/1\u001b[0m \u001b[32m━━━━━━━━━━━━━━━━━━━━\u001b[0m\u001b[37m\u001b[0m \u001b[1m0s\u001b[0m 45ms/step - loss: 4.8561\n",
            "Epoch 22/100\n",
            "\u001b[1m1/1\u001b[0m \u001b[32m━━━━━━━━━━━━━━━━━━━━\u001b[0m\u001b[37m\u001b[0m \u001b[1m0s\u001b[0m 57ms/step - loss: 4.8542\n",
            "Epoch 23/100\n",
            "\u001b[1m1/1\u001b[0m \u001b[32m━━━━━━━━━━━━━━━━━━━━\u001b[0m\u001b[37m\u001b[0m \u001b[1m0s\u001b[0m 52ms/step - loss: 4.8522\n",
            "Epoch 24/100\n",
            "\u001b[1m1/1\u001b[0m \u001b[32m━━━━━━━━━━━━━━━━━━━━\u001b[0m\u001b[37m\u001b[0m \u001b[1m0s\u001b[0m 60ms/step - loss: 4.8503\n",
            "Epoch 25/100\n",
            "\u001b[1m1/1\u001b[0m \u001b[32m━━━━━━━━━━━━━━━━━━━━\u001b[0m\u001b[37m\u001b[0m \u001b[1m0s\u001b[0m 37ms/step - loss: 4.8483\n",
            "Epoch 26/100\n",
            "\u001b[1m1/1\u001b[0m \u001b[32m━━━━━━━━━━━━━━━━━━━━\u001b[0m\u001b[37m\u001b[0m \u001b[1m0s\u001b[0m 60ms/step - loss: 4.8464\n",
            "Epoch 27/100\n",
            "\u001b[1m1/1\u001b[0m \u001b[32m━━━━━━━━━━━━━━━━━━━━\u001b[0m\u001b[37m\u001b[0m \u001b[1m0s\u001b[0m 39ms/step - loss: 4.8445\n",
            "Epoch 28/100\n",
            "\u001b[1m1/1\u001b[0m \u001b[32m━━━━━━━━━━━━━━━━━━━━\u001b[0m\u001b[37m\u001b[0m \u001b[1m0s\u001b[0m 41ms/step - loss: 4.8425\n",
            "Epoch 29/100\n",
            "\u001b[1m1/1\u001b[0m \u001b[32m━━━━━━━━━━━━━━━━━━━━\u001b[0m\u001b[37m\u001b[0m \u001b[1m0s\u001b[0m 38ms/step - loss: 4.8406\n",
            "Epoch 30/100\n",
            "\u001b[1m1/1\u001b[0m \u001b[32m━━━━━━━━━━━━━━━━━━━━\u001b[0m\u001b[37m\u001b[0m \u001b[1m0s\u001b[0m 58ms/step - loss: 4.8386\n",
            "Epoch 31/100\n",
            "\u001b[1m1/1\u001b[0m \u001b[32m━━━━━━━━━━━━━━━━━━━━\u001b[0m\u001b[37m\u001b[0m \u001b[1m0s\u001b[0m 60ms/step - loss: 4.8367\n",
            "Epoch 32/100\n",
            "\u001b[1m1/1\u001b[0m \u001b[32m━━━━━━━━━━━━━━━━━━━━\u001b[0m\u001b[37m\u001b[0m \u001b[1m0s\u001b[0m 59ms/step - loss: 4.8348\n",
            "Epoch 33/100\n",
            "\u001b[1m1/1\u001b[0m \u001b[32m━━━━━━━━━━━━━━━━━━━━\u001b[0m\u001b[37m\u001b[0m \u001b[1m0s\u001b[0m 42ms/step - loss: 4.8328\n",
            "Epoch 34/100\n",
            "\u001b[1m1/1\u001b[0m \u001b[32m━━━━━━━━━━━━━━━━━━━━\u001b[0m\u001b[37m\u001b[0m \u001b[1m0s\u001b[0m 59ms/step - loss: 4.8309\n",
            "Epoch 35/100\n",
            "\u001b[1m1/1\u001b[0m \u001b[32m━━━━━━━━━━━━━━━━━━━━\u001b[0m\u001b[37m\u001b[0m \u001b[1m0s\u001b[0m 32ms/step - loss: 4.8290\n",
            "Epoch 36/100\n",
            "\u001b[1m1/1\u001b[0m \u001b[32m━━━━━━━━━━━━━━━━━━━━\u001b[0m\u001b[37m\u001b[0m \u001b[1m0s\u001b[0m 44ms/step - loss: 4.8270\n",
            "Epoch 37/100\n",
            "\u001b[1m1/1\u001b[0m \u001b[32m━━━━━━━━━━━━━━━━━━━━\u001b[0m\u001b[37m\u001b[0m \u001b[1m0s\u001b[0m 53ms/step - loss: 4.8251\n",
            "Epoch 38/100\n",
            "\u001b[1m1/1\u001b[0m \u001b[32m━━━━━━━━━━━━━━━━━━━━\u001b[0m\u001b[37m\u001b[0m \u001b[1m0s\u001b[0m 55ms/step - loss: 4.8232\n",
            "Epoch 39/100\n",
            "\u001b[1m1/1\u001b[0m \u001b[32m━━━━━━━━━━━━━━━━━━━━\u001b[0m\u001b[37m\u001b[0m \u001b[1m0s\u001b[0m 58ms/step - loss: 4.8213\n",
            "Epoch 40/100\n",
            "\u001b[1m1/1\u001b[0m \u001b[32m━━━━━━━━━━━━━━━━━━━━\u001b[0m\u001b[37m\u001b[0m \u001b[1m0s\u001b[0m 59ms/step - loss: 4.8193\n",
            "Epoch 41/100\n",
            "\u001b[1m1/1\u001b[0m \u001b[32m━━━━━━━━━━━━━━━━━━━━\u001b[0m\u001b[37m\u001b[0m \u001b[1m0s\u001b[0m 56ms/step - loss: 4.8174\n",
            "Epoch 42/100\n",
            "\u001b[1m1/1\u001b[0m \u001b[32m━━━━━━━━━━━━━━━━━━━━\u001b[0m\u001b[37m\u001b[0m \u001b[1m0s\u001b[0m 57ms/step - loss: 4.8154\n",
            "Epoch 43/100\n",
            "\u001b[1m1/1\u001b[0m \u001b[32m━━━━━━━━━━━━━━━━━━━━\u001b[0m\u001b[37m\u001b[0m \u001b[1m0s\u001b[0m 59ms/step - loss: 4.8135\n",
            "Epoch 44/100\n",
            "\u001b[1m1/1\u001b[0m \u001b[32m━━━━━━━━━━━━━━━━━━━━\u001b[0m\u001b[37m\u001b[0m \u001b[1m0s\u001b[0m 35ms/step - loss: 4.8116\n",
            "Epoch 45/100\n",
            "\u001b[1m1/1\u001b[0m \u001b[32m━━━━━━━━━━━━━━━━━━━━\u001b[0m\u001b[37m\u001b[0m \u001b[1m0s\u001b[0m 56ms/step - loss: 4.8097\n",
            "Epoch 46/100\n",
            "\u001b[1m1/1\u001b[0m \u001b[32m━━━━━━━━━━━━━━━━━━━━\u001b[0m\u001b[37m\u001b[0m \u001b[1m0s\u001b[0m 39ms/step - loss: 4.8078\n",
            "Epoch 47/100\n",
            "\u001b[1m1/1\u001b[0m \u001b[32m━━━━━━━━━━━━━━━━━━━━\u001b[0m\u001b[37m\u001b[0m \u001b[1m0s\u001b[0m 38ms/step - loss: 4.8059\n",
            "Epoch 48/100\n",
            "\u001b[1m1/1\u001b[0m \u001b[32m━━━━━━━━━━━━━━━━━━━━\u001b[0m\u001b[37m\u001b[0m \u001b[1m0s\u001b[0m 57ms/step - loss: 4.8039\n",
            "Epoch 49/100\n",
            "\u001b[1m1/1\u001b[0m \u001b[32m━━━━━━━━━━━━━━━━━━━━\u001b[0m\u001b[37m\u001b[0m \u001b[1m0s\u001b[0m 59ms/step - loss: 4.8020\n",
            "Epoch 50/100\n",
            "\u001b[1m1/1\u001b[0m \u001b[32m━━━━━━━━━━━━━━━━━━━━\u001b[0m\u001b[37m\u001b[0m \u001b[1m0s\u001b[0m 41ms/step - loss: 4.8001\n",
            "Epoch 51/100\n",
            "\u001b[1m1/1\u001b[0m \u001b[32m━━━━━━━━━━━━━━━━━━━━\u001b[0m\u001b[37m\u001b[0m \u001b[1m0s\u001b[0m 36ms/step - loss: 4.7982\n",
            "Epoch 52/100\n",
            "\u001b[1m1/1\u001b[0m \u001b[32m━━━━━━━━━━━━━━━━━━━━\u001b[0m\u001b[37m\u001b[0m \u001b[1m0s\u001b[0m 59ms/step - loss: 4.7962\n",
            "Epoch 53/100\n",
            "\u001b[1m1/1\u001b[0m \u001b[32m━━━━━━━━━━━━━━━━━━━━\u001b[0m\u001b[37m\u001b[0m \u001b[1m0s\u001b[0m 37ms/step - loss: 4.7943\n",
            "Epoch 54/100\n",
            "\u001b[1m1/1\u001b[0m \u001b[32m━━━━━━━━━━━━━━━━━━━━\u001b[0m\u001b[37m\u001b[0m \u001b[1m0s\u001b[0m 44ms/step - loss: 4.7924\n",
            "Epoch 55/100\n",
            "\u001b[1m1/1\u001b[0m \u001b[32m━━━━━━━━━━━━━━━━━━━━\u001b[0m\u001b[37m\u001b[0m \u001b[1m0s\u001b[0m 51ms/step - loss: 4.7905\n",
            "Epoch 56/100\n",
            "\u001b[1m1/1\u001b[0m \u001b[32m━━━━━━━━━━━━━━━━━━━━\u001b[0m\u001b[37m\u001b[0m \u001b[1m0s\u001b[0m 56ms/step - loss: 4.7886\n",
            "Epoch 57/100\n",
            "\u001b[1m1/1\u001b[0m \u001b[32m━━━━━━━━━━━━━━━━━━━━\u001b[0m\u001b[37m\u001b[0m \u001b[1m0s\u001b[0m 42ms/step - loss: 4.7867\n",
            "Epoch 58/100\n",
            "\u001b[1m1/1\u001b[0m \u001b[32m━━━━━━━━━━━━━━━━━━━━\u001b[0m\u001b[37m\u001b[0m \u001b[1m0s\u001b[0m 43ms/step - loss: 4.7848\n",
            "Epoch 59/100\n",
            "\u001b[1m1/1\u001b[0m \u001b[32m━━━━━━━━━━━━━━━━━━━━\u001b[0m\u001b[37m\u001b[0m \u001b[1m0s\u001b[0m 49ms/step - loss: 4.7829\n",
            "Epoch 60/100\n",
            "\u001b[1m1/1\u001b[0m \u001b[32m━━━━━━━━━━━━━━━━━━━━\u001b[0m\u001b[37m\u001b[0m \u001b[1m0s\u001b[0m 42ms/step - loss: 4.7810\n",
            "Epoch 61/100\n",
            "\u001b[1m1/1\u001b[0m \u001b[32m━━━━━━━━━━━━━━━━━━━━\u001b[0m\u001b[37m\u001b[0m \u001b[1m0s\u001b[0m 54ms/step - loss: 4.7791\n",
            "Epoch 62/100\n",
            "\u001b[1m1/1\u001b[0m \u001b[32m━━━━━━━━━━━━━━━━━━━━\u001b[0m\u001b[37m\u001b[0m \u001b[1m0s\u001b[0m 59ms/step - loss: 4.7772\n",
            "Epoch 63/100\n",
            "\u001b[1m1/1\u001b[0m \u001b[32m━━━━━━━━━━━━━━━━━━━━\u001b[0m\u001b[37m\u001b[0m \u001b[1m0s\u001b[0m 58ms/step - loss: 4.7752\n",
            "Epoch 64/100\n",
            "\u001b[1m1/1\u001b[0m \u001b[32m━━━━━━━━━━━━━━━━━━━━\u001b[0m\u001b[37m\u001b[0m \u001b[1m0s\u001b[0m 47ms/step - loss: 4.7734\n",
            "Epoch 65/100\n",
            "\u001b[1m1/1\u001b[0m \u001b[32m━━━━━━━━━━━━━━━━━━━━\u001b[0m\u001b[37m\u001b[0m \u001b[1m0s\u001b[0m 58ms/step - loss: 4.7715\n",
            "Epoch 66/100\n",
            "\u001b[1m1/1\u001b[0m \u001b[32m━━━━━━━━━━━━━━━━━━━━\u001b[0m\u001b[37m\u001b[0m \u001b[1m0s\u001b[0m 57ms/step - loss: 4.7696\n",
            "Epoch 67/100\n",
            "\u001b[1m1/1\u001b[0m \u001b[32m━━━━━━━━━━━━━━━━━━━━\u001b[0m\u001b[37m\u001b[0m \u001b[1m0s\u001b[0m 33ms/step - loss: 4.7677\n",
            "Epoch 68/100\n",
            "\u001b[1m1/1\u001b[0m \u001b[32m━━━━━━━━━━━━━━━━━━━━\u001b[0m\u001b[37m\u001b[0m \u001b[1m0s\u001b[0m 40ms/step - loss: 4.7657\n",
            "Epoch 69/100\n",
            "\u001b[1m1/1\u001b[0m \u001b[32m━━━━━━━━━━━━━━━━━━━━\u001b[0m\u001b[37m\u001b[0m \u001b[1m0s\u001b[0m 50ms/step - loss: 4.7639\n",
            "Epoch 70/100\n",
            "\u001b[1m1/1\u001b[0m \u001b[32m━━━━━━━━━━━━━━━━━━━━\u001b[0m\u001b[37m\u001b[0m \u001b[1m0s\u001b[0m 39ms/step - loss: 4.7620\n",
            "Epoch 71/100\n",
            "\u001b[1m1/1\u001b[0m \u001b[32m━━━━━━━━━━━━━━━━━━━━\u001b[0m\u001b[37m\u001b[0m \u001b[1m0s\u001b[0m 40ms/step - loss: 4.7600\n",
            "Epoch 72/100\n",
            "\u001b[1m1/1\u001b[0m \u001b[32m━━━━━━━━━━━━━━━━━━━━\u001b[0m\u001b[37m\u001b[0m \u001b[1m0s\u001b[0m 41ms/step - loss: 4.7582\n",
            "Epoch 73/100\n",
            "\u001b[1m1/1\u001b[0m \u001b[32m━━━━━━━━━━━━━━━━━━━━\u001b[0m\u001b[37m\u001b[0m \u001b[1m0s\u001b[0m 54ms/step - loss: 4.7562\n",
            "Epoch 74/100\n",
            "\u001b[1m1/1\u001b[0m \u001b[32m━━━━━━━━━━━━━━━━━━━━\u001b[0m\u001b[37m\u001b[0m \u001b[1m0s\u001b[0m 58ms/step - loss: 4.7544\n",
            "Epoch 75/100\n",
            "\u001b[1m1/1\u001b[0m \u001b[32m━━━━━━━━━━━━━━━━━━━━\u001b[0m\u001b[37m\u001b[0m \u001b[1m0s\u001b[0m 38ms/step - loss: 4.7524\n",
            "Epoch 76/100\n",
            "\u001b[1m1/1\u001b[0m \u001b[32m━━━━━━━━━━━━━━━━━━━━\u001b[0m\u001b[37m\u001b[0m \u001b[1m0s\u001b[0m 61ms/step - loss: 4.7506\n",
            "Epoch 77/100\n",
            "\u001b[1m1/1\u001b[0m \u001b[32m━━━━━━━━━━━━━━━━━━━━\u001b[0m\u001b[37m\u001b[0m \u001b[1m0s\u001b[0m 40ms/step - loss: 4.7487\n",
            "Epoch 78/100\n",
            "\u001b[1m1/1\u001b[0m \u001b[32m━━━━━━━━━━━━━━━━━━━━\u001b[0m\u001b[37m\u001b[0m \u001b[1m0s\u001b[0m 59ms/step - loss: 4.7468\n",
            "Epoch 79/100\n",
            "\u001b[1m1/1\u001b[0m \u001b[32m━━━━━━━━━━━━━━━━━━━━\u001b[0m\u001b[37m\u001b[0m \u001b[1m0s\u001b[0m 43ms/step - loss: 4.7449\n",
            "Epoch 80/100\n",
            "\u001b[1m1/1\u001b[0m \u001b[32m━━━━━━━━━━━━━━━━━━━━\u001b[0m\u001b[37m\u001b[0m \u001b[1m0s\u001b[0m 41ms/step - loss: 4.7430\n",
            "Epoch 81/100\n",
            "\u001b[1m1/1\u001b[0m \u001b[32m━━━━━━━━━━━━━━━━━━━━\u001b[0m\u001b[37m\u001b[0m \u001b[1m0s\u001b[0m 55ms/step - loss: 4.7412\n",
            "Epoch 82/100\n",
            "\u001b[1m1/1\u001b[0m \u001b[32m━━━━━━━━━━━━━━━━━━━━\u001b[0m\u001b[37m\u001b[0m \u001b[1m0s\u001b[0m 60ms/step - loss: 4.7393\n",
            "Epoch 83/100\n",
            "\u001b[1m1/1\u001b[0m \u001b[32m━━━━━━━━━━━━━━━━━━━━\u001b[0m\u001b[37m\u001b[0m \u001b[1m0s\u001b[0m 40ms/step - loss: 4.7374\n",
            "Epoch 84/100\n",
            "\u001b[1m1/1\u001b[0m \u001b[32m━━━━━━━━━━━━━━━━━━━━\u001b[0m\u001b[37m\u001b[0m \u001b[1m0s\u001b[0m 58ms/step - loss: 4.7355\n",
            "Epoch 85/100\n",
            "\u001b[1m1/1\u001b[0m \u001b[32m━━━━━━━━━━━━━━━━━━━━\u001b[0m\u001b[37m\u001b[0m \u001b[1m0s\u001b[0m 60ms/step - loss: 4.7336\n",
            "Epoch 86/100\n",
            "\u001b[1m1/1\u001b[0m \u001b[32m━━━━━━━━━━━━━━━━━━━━\u001b[0m\u001b[37m\u001b[0m \u001b[1m0s\u001b[0m 47ms/step - loss: 4.7317\n",
            "Epoch 87/100\n",
            "\u001b[1m1/1\u001b[0m \u001b[32m━━━━━━━━━━━━━━━━━━━━\u001b[0m\u001b[37m\u001b[0m \u001b[1m0s\u001b[0m 62ms/step - loss: 4.7299\n",
            "Epoch 88/100\n",
            "\u001b[1m1/1\u001b[0m \u001b[32m━━━━━━━━━━━━━━━━━━━━\u001b[0m\u001b[37m\u001b[0m \u001b[1m0s\u001b[0m 132ms/step - loss: 4.7280\n",
            "Epoch 89/100\n",
            "\u001b[1m1/1\u001b[0m \u001b[32m━━━━━━━━━━━━━━━━━━━━\u001b[0m\u001b[37m\u001b[0m \u001b[1m0s\u001b[0m 96ms/step - loss: 4.7261\n",
            "Epoch 90/100\n",
            "\u001b[1m1/1\u001b[0m \u001b[32m━━━━━━━━━━━━━━━━━━━━\u001b[0m\u001b[37m\u001b[0m \u001b[1m0s\u001b[0m 74ms/step - loss: 4.7242\n",
            "Epoch 91/100\n",
            "\u001b[1m1/1\u001b[0m \u001b[32m━━━━━━━━━━━━━━━━━━━━\u001b[0m\u001b[37m\u001b[0m \u001b[1m0s\u001b[0m 56ms/step - loss: 4.7223\n",
            "Epoch 92/100\n",
            "\u001b[1m1/1\u001b[0m \u001b[32m━━━━━━━━━━━━━━━━━━━━\u001b[0m\u001b[37m\u001b[0m \u001b[1m0s\u001b[0m 66ms/step - loss: 4.7205\n",
            "Epoch 93/100\n",
            "\u001b[1m1/1\u001b[0m \u001b[32m━━━━━━━━━━━━━━━━━━━━\u001b[0m\u001b[37m\u001b[0m \u001b[1m0s\u001b[0m 51ms/step - loss: 4.7186\n",
            "Epoch 94/100\n",
            "\u001b[1m1/1\u001b[0m \u001b[32m━━━━━━━━━━━━━━━━━━━━\u001b[0m\u001b[37m\u001b[0m \u001b[1m0s\u001b[0m 60ms/step - loss: 4.7167\n",
            "Epoch 95/100\n",
            "\u001b[1m1/1\u001b[0m \u001b[32m━━━━━━━━━━━━━━━━━━━━\u001b[0m\u001b[37m\u001b[0m \u001b[1m0s\u001b[0m 59ms/step - loss: 4.7148\n",
            "Epoch 96/100\n",
            "\u001b[1m1/1\u001b[0m \u001b[32m━━━━━━━━━━━━━━━━━━━━\u001b[0m\u001b[37m\u001b[0m \u001b[1m0s\u001b[0m 60ms/step - loss: 4.7130\n",
            "Epoch 97/100\n",
            "\u001b[1m1/1\u001b[0m \u001b[32m━━━━━━━━━━━━━━━━━━━━\u001b[0m\u001b[37m\u001b[0m \u001b[1m0s\u001b[0m 50ms/step - loss: 4.7111\n",
            "Epoch 98/100\n",
            "\u001b[1m1/1\u001b[0m \u001b[32m━━━━━━━━━━━━━━━━━━━━\u001b[0m\u001b[37m\u001b[0m \u001b[1m0s\u001b[0m 45ms/step - loss: 4.7092\n",
            "Epoch 99/100\n",
            "\u001b[1m1/1\u001b[0m \u001b[32m━━━━━━━━━━━━━━━━━━━━\u001b[0m\u001b[37m\u001b[0m \u001b[1m0s\u001b[0m 46ms/step - loss: 4.7074\n",
            "Epoch 100/100\n",
            "\u001b[1m1/1\u001b[0m \u001b[32m━━━━━━━━━━━━━━━━━━━━\u001b[0m\u001b[37m\u001b[0m \u001b[1m0s\u001b[0m 58ms/step - loss: 4.7055\n",
            "\u001b[1m1/1\u001b[0m \u001b[32m━━━━━━━━━━━━━━━━━━━━\u001b[0m\u001b[37m\u001b[0m \u001b[1m0s\u001b[0m 75ms/step\n",
            "[[178.57303]]\n"
          ]
        }
      ]
    }
  ]
}