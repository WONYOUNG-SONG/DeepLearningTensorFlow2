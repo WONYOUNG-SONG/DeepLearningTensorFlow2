{
  "nbformat": 4,
  "nbformat_minor": 0,
  "metadata": {
    "colab": {
      "provenance": [],
      "authorship_tag": "ABX9TyMc0lXHtVFugcyd4K/T1Q6x",
      "include_colab_link": true
    },
    "kernelspec": {
      "name": "python3",
      "display_name": "Python 3"
    },
    "language_info": {
      "name": "python"
    }
  },
  "cells": [
    {
      "cell_type": "markdown",
      "metadata": {
        "id": "view-in-github",
        "colab_type": "text"
      },
      "source": [
        "<a href=\"https://colab.research.google.com/github/WONYOUNG-SONG/DeepLearningTensorFlow2/blob/main/Lab06_SoftmaxClassifier.ipynb\" target=\"_parent\"><img src=\"https://colab.research.google.com/assets/colab-badge.svg\" alt=\"Open In Colab\"/></a>"
      ]
    },
    {
      "cell_type": "code",
      "execution_count": null,
      "metadata": {
        "id": "BdKvDzeioLSk"
      },
      "outputs": [],
      "source": [
        "# Lab 6 Softmax Classifier\n",
        "import tensorflow as tf\n",
        "import numpy as np\n",
        "\n",
        "x_raw = [[1, 2, 1, 1],\n",
        "          [2, 1, 3, 2],\n",
        "          [3, 1, 3, 4],\n",
        "          [4, 1, 5, 5],\n",
        "          [1, 7, 5, 5],\n",
        "          [1, 2, 5, 6],\n",
        "          [1, 6, 6, 6],\n",
        "          [1, 7, 7, 7]]\n",
        "y_raw = [[0, 0, 1],\n",
        "          [0, 0, 1],\n",
        "          [0, 0, 1],\n",
        "          [0, 1, 0],\n",
        "          [0, 1, 0],\n",
        "          [0, 1, 0],\n",
        "          [1, 0, 0],\n",
        "          [1, 0, 0]]\n",
        "\n",
        "x_data = np.array(x_raw, dtype=np.float32)\n",
        "y_data = np.array(y_raw, dtype=np.float32)\n",
        "\n",
        "nb_classes = 3\n",
        "\n",
        "tf.model = tf.keras.Sequential()\n",
        "tf.model.add(tf.keras.layers.Dense(input_dim=4, units=nb_classes, use_bias=True))  # use_bias is True, by default\n",
        "\n",
        "# use softmax activations: softmax = exp(logits) / reduce_sum(exp(logits), dim)\n",
        "tf.model.add(tf.keras.layers.Activation('softmax'))\n",
        "\n",
        "# use loss == categorical_crossentropy\n",
        "tf.model.compile(loss='categorical_crossentropy', optimizer=tf.keras.optimizers.SGD(learning_rate=0.1), metrics=['accuracy'])\n",
        "tf.model.summary()\n",
        "\n",
        "history = tf.model.fit(x_data, y_data, epochs=2000)\n",
        "\n",
        "print('--------------')\n",
        "# Testing & One-hot encoding\n",
        "a = tf.model.predict(np.array([[1, 11, 7, 9]]))\n",
        "print(a, tf.keras.backend.eval(tf.argmax(a, axis=1)))\n",
        "\n",
        "print('--------------')\n",
        "b = tf.model.predict(np.array([[1, 3, 4, 3]]))\n",
        "print(b, tf.keras.backend.eval(tf.argmax(b, axis=1)))\n",
        "\n",
        "print('--------------')\n",
        "# or use argmax embedded method, predict_classes\n",
        "c = tf.model.predict(np.array([[1, 1, 0, 1]]))\n",
        "c_onehot = np.argmax(c, axis=-1)\n",
        "print(c, c_onehot)\n",
        "\n",
        "print('--------------')\n",
        "all = tf.model.predict(np.array([[1, 11, 7, 9], [1, 3, 4, 3], [1, 1, 0, 1]]))\n",
        "all_onehot = np.argmax(all, axis=-1)\n",
        "print(all, all_onehot)"
      ]
    }
  ]
}